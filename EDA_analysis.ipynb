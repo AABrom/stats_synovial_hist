{
 "cells": [
  {
   "cell_type": "code",
   "execution_count": 4,
   "metadata": {},
   "outputs": [
    {
     "name": "stdout",
     "output_type": "stream",
     "text": [
      "Collecting statsmodels\n",
      "  Downloading statsmodels-0.14.2-cp310-cp310-manylinux_2_17_x86_64.manylinux2014_x86_64.whl.metadata (9.2 kB)\n",
      "Requirement already satisfied: numpy>=1.22.3 in /home/codespace/.local/lib/python3.10/site-packages (from statsmodels) (2.0.0)\n",
      "Requirement already satisfied: scipy!=1.9.2,>=1.8 in /home/codespace/.local/lib/python3.10/site-packages (from statsmodels) (1.14.0)\n",
      "Requirement already satisfied: pandas!=2.1.0,>=1.4 in /home/codespace/.local/lib/python3.10/site-packages (from statsmodels) (2.2.2)\n",
      "Collecting patsy>=0.5.6 (from statsmodels)\n",
      "  Downloading patsy-0.5.6-py2.py3-none-any.whl.metadata (3.5 kB)\n",
      "Requirement already satisfied: packaging>=21.3 in /home/codespace/.local/lib/python3.10/site-packages (from statsmodels) (24.1)\n",
      "Requirement already satisfied: python-dateutil>=2.8.2 in /home/codespace/.local/lib/python3.10/site-packages (from pandas!=2.1.0,>=1.4->statsmodels) (2.9.0.post0)\n",
      "Requirement already satisfied: pytz>=2020.1 in /home/codespace/.local/lib/python3.10/site-packages (from pandas!=2.1.0,>=1.4->statsmodels) (2024.1)\n",
      "Requirement already satisfied: tzdata>=2022.7 in /home/codespace/.local/lib/python3.10/site-packages (from pandas!=2.1.0,>=1.4->statsmodels) (2024.1)\n",
      "Requirement already satisfied: six in /home/codespace/.local/lib/python3.10/site-packages (from patsy>=0.5.6->statsmodels) (1.16.0)\n",
      "Downloading statsmodels-0.14.2-cp310-cp310-manylinux_2_17_x86_64.manylinux2014_x86_64.whl (10.8 MB)\n",
      "\u001b[2K   \u001b[90m━━━━━━━━━━━━━━━━━━━━━━━━━━━━━━━━━━━━━━━━\u001b[0m \u001b[32m10.8/10.8 MB\u001b[0m \u001b[31m64.8 MB/s\u001b[0m eta \u001b[36m0:00:00\u001b[0m:00:01\u001b[0m0:01\u001b[0m\n",
      "\u001b[?25hDownloading patsy-0.5.6-py2.py3-none-any.whl (233 kB)\n",
      "\u001b[2K   \u001b[90m━━━━━━━━━━━━━━━━━━━━━━━━━━━━━━━━━━━━━━━━\u001b[0m \u001b[32m233.9/233.9 kB\u001b[0m \u001b[31m5.7 MB/s\u001b[0m eta \u001b[36m0:00:00\u001b[0mta \u001b[36m0:00:01\u001b[0m\n",
      "\u001b[?25hInstalling collected packages: patsy, statsmodels\n",
      "Successfully installed patsy-0.5.6 statsmodels-0.14.2\n",
      "Note: you may need to restart the kernel to use updated packages.\n"
     ]
    }
   ],
   "source": [
    "pip install statsmodels"
   ]
  },
  {
   "cell_type": "code",
   "execution_count": 11,
   "metadata": {},
   "outputs": [
    {
     "name": "stdout",
     "output_type": "stream",
     "text": [
      "Collecting openpyxl\n",
      "  Downloading openpyxl-3.1.5-py2.py3-none-any.whl.metadata (2.5 kB)\n",
      "Collecting et-xmlfile (from openpyxl)\n",
      "  Downloading et_xmlfile-1.1.0-py3-none-any.whl.metadata (1.8 kB)\n",
      "Downloading openpyxl-3.1.5-py2.py3-none-any.whl (250 kB)\n",
      "\u001b[2K   \u001b[90m━━━━━━━━━━━━━━━━━━━━━━━━━━━━━━━━━━━━━━━━\u001b[0m \u001b[32m250.9/250.9 kB\u001b[0m \u001b[31m6.8 MB/s\u001b[0m eta \u001b[36m0:00:00\u001b[0m:00:01\u001b[0m\n",
      "\u001b[?25hDownloading et_xmlfile-1.1.0-py3-none-any.whl (4.7 kB)\n",
      "Installing collected packages: et-xmlfile, openpyxl\n",
      "Successfully installed et-xmlfile-1.1.0 openpyxl-3.1.5\n",
      "Note: you may need to restart the kernel to use updated packages.\n"
     ]
    }
   ],
   "source": [
    "pip install openpyxl"
   ]
  },
  {
   "cell_type": "code",
   "execution_count": 5,
   "metadata": {},
   "outputs": [],
   "source": [
    "import pandas as pd \n",
    "import numpy as np\n",
    "%matplotlib inline\n",
    "import matplotlib.pyplot as plt\n",
    "import seaborn as sns \n",
    "from sklearn import ensemble \n",
    "from sklearn import linear_model\n",
    "from sklearn import metrics \n",
    "import seaborn as sns\n",
    "import sklearn as sk\n",
    "from statsmodels.stats.multicomp import pairwise_tukeyhsd, MultiComparison\n",
    "from scipy import stats\n",
    "from scipy.stats import spearmanr, pearsonr"
   ]
  },
  {
   "cell_type": "code",
   "execution_count": 6,
   "metadata": {},
   "outputs": [],
   "source": [
    "def normal_or_not (group):\n",
    "    # происходит ли выборка из нормального распределения по тесту Шапиро-Уилка\n",
    "    W_statistic, w_p_val = stats.shapiro(group)\n",
    "    print ( 'W_statistic:', round(W_statistic, 3), \" \\n \", 'w_p_val:', round(w_p_val, 3))\n",
    "    if round(w_p_val, 3)>=0.05:\n",
    "        print(\"Выборочное распределение подчиняется нормальному закону\")\n",
    "    else:\n",
    "        print(\"Выборочное распределение не подчиняется нормальному закону\")"
   ]
  },
  {
   "cell_type": "markdown",
   "metadata": {},
   "source": [
    "# Patient clinical data import"
   ]
  },
  {
   "cell_type": "code",
   "execution_count": 12,
   "metadata": {},
   "outputs": [],
   "source": [
    "patients_data = pd.read_excel('Individual_patients_clinical_data_demography.xlsx')"
   ]
  },
  {
   "cell_type": "code",
   "execution_count": 13,
   "metadata": {},
   "outputs": [
    {
     "data": {
      "text/html": [
       "<div>\n",
       "<style scoped>\n",
       "    .dataframe tbody tr th:only-of-type {\n",
       "        vertical-align: middle;\n",
       "    }\n",
       "\n",
       "    .dataframe tbody tr th {\n",
       "        vertical-align: top;\n",
       "    }\n",
       "\n",
       "    .dataframe thead th {\n",
       "        text-align: right;\n",
       "    }\n",
       "</style>\n",
       "<table border=\"1\" class=\"dataframe\">\n",
       "  <thead>\n",
       "    <tr style=\"text-align: right;\">\n",
       "      <th></th>\n",
       "      <th>Sample i.d.</th>\n",
       "      <th>Pathology</th>\n",
       "      <th>Gender</th>\n",
       "      <th>Age (years)</th>\n",
       "      <th>BMI (kg/m2)</th>\n",
       "      <th>Duration of symptoms (years)</th>\n",
       "      <th>WCC x109/L</th>\n",
       "      <th>CRP (mg/l)</th>\n",
       "      <th>S100a8a9</th>\n",
       "      <th>ASA grade</th>\n",
       "      <th>CIRS</th>\n",
       "      <th>WOMAC score</th>\n",
       "      <th>SF-12 Ph</th>\n",
       "      <th>SF-12 M</th>\n",
       "    </tr>\n",
       "  </thead>\n",
       "  <tbody>\n",
       "    <tr>\n",
       "      <th>0</th>\n",
       "      <td>16</td>\n",
       "      <td>OA</td>\n",
       "      <td>M</td>\n",
       "      <td>72.06</td>\n",
       "      <td>35.93</td>\n",
       "      <td>10.0</td>\n",
       "      <td>8.4</td>\n",
       "      <td>1.0</td>\n",
       "      <td>6.05</td>\n",
       "      <td>2</td>\n",
       "      <td>7</td>\n",
       "      <td>59.0</td>\n",
       "      <td>34.8</td>\n",
       "      <td>50.4</td>\n",
       "    </tr>\n",
       "    <tr>\n",
       "      <th>1</th>\n",
       "      <td>29</td>\n",
       "      <td>OA</td>\n",
       "      <td>F</td>\n",
       "      <td>60.05</td>\n",
       "      <td>28.59</td>\n",
       "      <td>9.0</td>\n",
       "      <td>10.3</td>\n",
       "      <td>1.0</td>\n",
       "      <td>5.26</td>\n",
       "      <td>1</td>\n",
       "      <td>3</td>\n",
       "      <td>72.0</td>\n",
       "      <td>25.5</td>\n",
       "      <td>54.4</td>\n",
       "    </tr>\n",
       "    <tr>\n",
       "      <th>2</th>\n",
       "      <td>31</td>\n",
       "      <td>OA</td>\n",
       "      <td>M</td>\n",
       "      <td>69.62</td>\n",
       "      <td>32.19</td>\n",
       "      <td>27.0</td>\n",
       "      <td>6.9</td>\n",
       "      <td>1.0</td>\n",
       "      <td>6.78</td>\n",
       "      <td>2</td>\n",
       "      <td>7</td>\n",
       "      <td>66.0</td>\n",
       "      <td>21.0</td>\n",
       "      <td>57.2</td>\n",
       "    </tr>\n",
       "    <tr>\n",
       "      <th>3</th>\n",
       "      <td>35</td>\n",
       "      <td>OA</td>\n",
       "      <td>M</td>\n",
       "      <td>53.63</td>\n",
       "      <td>32.55</td>\n",
       "      <td>3.0</td>\n",
       "      <td>7.2</td>\n",
       "      <td>1.0</td>\n",
       "      <td>5.42</td>\n",
       "      <td>2</td>\n",
       "      <td>5</td>\n",
       "      <td>82.0</td>\n",
       "      <td>23.9</td>\n",
       "      <td>56.4</td>\n",
       "    </tr>\n",
       "    <tr>\n",
       "      <th>4</th>\n",
       "      <td>36</td>\n",
       "      <td>OA</td>\n",
       "      <td>F</td>\n",
       "      <td>57.83</td>\n",
       "      <td>34.22</td>\n",
       "      <td>20.0</td>\n",
       "      <td>6.6</td>\n",
       "      <td>1.0</td>\n",
       "      <td>6.37</td>\n",
       "      <td>1</td>\n",
       "      <td>3</td>\n",
       "      <td>66.0</td>\n",
       "      <td>36.2</td>\n",
       "      <td>26.5</td>\n",
       "    </tr>\n",
       "  </tbody>\n",
       "</table>\n",
       "</div>"
      ],
      "text/plain": [
       "   Sample i.d. Pathology Gender  Age (years)  BMI (kg/m2)  \\\n",
       "0           16        OA      M        72.06        35.93   \n",
       "1           29        OA      F        60.05        28.59   \n",
       "2           31        OA      M        69.62        32.19   \n",
       "3           35        OA      M        53.63        32.55   \n",
       "4           36        OA      F        57.83        34.22   \n",
       "\n",
       "   Duration of symptoms (years)  WCC x109/L  CRP (mg/l)  S100a8a9  ASA grade  \\\n",
       "0                          10.0         8.4         1.0      6.05          2   \n",
       "1                           9.0        10.3         1.0      5.26          1   \n",
       "2                          27.0         6.9         1.0      6.78          2   \n",
       "3                           3.0         7.2         1.0      5.42          2   \n",
       "4                          20.0         6.6         1.0      6.37          1   \n",
       "\n",
       "   CIRS  WOMAC score  SF-12 Ph  SF-12 M  \n",
       "0     7         59.0      34.8     50.4  \n",
       "1     3         72.0      25.5     54.4  \n",
       "2     7         66.0      21.0     57.2  \n",
       "3     5         82.0      23.9     56.4  \n",
       "4     3         66.0      36.2     26.5  "
      ]
     },
     "execution_count": 13,
     "metadata": {},
     "output_type": "execute_result"
    }
   ],
   "source": [
    "patients_data.head()"
   ]
  },
  {
   "cell_type": "code",
   "execution_count": 14,
   "metadata": {},
   "outputs": [
    {
     "data": {
      "text/plain": [
       "(33, 14)"
      ]
     },
     "execution_count": 14,
     "metadata": {},
     "output_type": "execute_result"
    }
   ],
   "source": [
    "patients_data.shape"
   ]
  },
  {
   "cell_type": "code",
   "execution_count": 16,
   "metadata": {},
   "outputs": [
    {
     "data": {
      "text/plain": [
       "11"
      ]
     },
     "execution_count": 16,
     "metadata": {},
     "output_type": "execute_result"
    }
   ],
   "source": [
    "nan_patients_data = patients_data[patients_data.isna().any(axis=1)]\n",
    "len(nan_patients_data)"
   ]
  },
  {
   "cell_type": "code",
   "execution_count": 17,
   "metadata": {},
   "outputs": [
    {
     "data": {
      "text/html": [
       "<div>\n",
       "<style scoped>\n",
       "    .dataframe tbody tr th:only-of-type {\n",
       "        vertical-align: middle;\n",
       "    }\n",
       "\n",
       "    .dataframe tbody tr th {\n",
       "        vertical-align: top;\n",
       "    }\n",
       "\n",
       "    .dataframe thead th {\n",
       "        text-align: right;\n",
       "    }\n",
       "</style>\n",
       "<table border=\"1\" class=\"dataframe\">\n",
       "  <thead>\n",
       "    <tr style=\"text-align: right;\">\n",
       "      <th></th>\n",
       "      <th>Sample i.d.</th>\n",
       "      <th>Pathology</th>\n",
       "      <th>Gender</th>\n",
       "      <th>Age (years)</th>\n",
       "      <th>BMI (kg/m2)</th>\n",
       "      <th>Duration of symptoms (years)</th>\n",
       "      <th>WCC x109/L</th>\n",
       "      <th>CRP (mg/l)</th>\n",
       "      <th>S100a8a9</th>\n",
       "      <th>ASA grade</th>\n",
       "      <th>CIRS</th>\n",
       "      <th>WOMAC score</th>\n",
       "      <th>SF-12 Ph</th>\n",
       "      <th>SF-12 M</th>\n",
       "    </tr>\n",
       "  </thead>\n",
       "  <tbody>\n",
       "    <tr>\n",
       "      <th>15</th>\n",
       "      <td>169</td>\n",
       "      <td>OA</td>\n",
       "      <td>F</td>\n",
       "      <td>54.66</td>\n",
       "      <td>33.56</td>\n",
       "      <td>3.00</td>\n",
       "      <td>4.4</td>\n",
       "      <td>1.0</td>\n",
       "      <td>NaN</td>\n",
       "      <td>2</td>\n",
       "      <td>9</td>\n",
       "      <td>65.0</td>\n",
       "      <td>26.71</td>\n",
       "      <td>40.03</td>\n",
       "    </tr>\n",
       "    <tr>\n",
       "      <th>21</th>\n",
       "      <td>88</td>\n",
       "      <td>Scope</td>\n",
       "      <td>M</td>\n",
       "      <td>29.16</td>\n",
       "      <td>25.25</td>\n",
       "      <td>1.00</td>\n",
       "      <td>14.4</td>\n",
       "      <td>1.0</td>\n",
       "      <td>4.50</td>\n",
       "      <td>1</td>\n",
       "      <td>1</td>\n",
       "      <td>NaN</td>\n",
       "      <td>NaN</td>\n",
       "      <td>NaN</td>\n",
       "    </tr>\n",
       "    <tr>\n",
       "      <th>24</th>\n",
       "      <td>155</td>\n",
       "      <td>Scope</td>\n",
       "      <td>F</td>\n",
       "      <td>25.25</td>\n",
       "      <td>24.06</td>\n",
       "      <td>1.50</td>\n",
       "      <td>8.8</td>\n",
       "      <td>1.0</td>\n",
       "      <td>NaN</td>\n",
       "      <td>1</td>\n",
       "      <td>1</td>\n",
       "      <td>1.0</td>\n",
       "      <td>52.76</td>\n",
       "      <td>58.52</td>\n",
       "    </tr>\n",
       "    <tr>\n",
       "      <th>25</th>\n",
       "      <td>46</td>\n",
       "      <td>Trauma</td>\n",
       "      <td>M</td>\n",
       "      <td>37.33</td>\n",
       "      <td>24.19</td>\n",
       "      <td>0.02</td>\n",
       "      <td>7.6</td>\n",
       "      <td>61.0</td>\n",
       "      <td>4.80</td>\n",
       "      <td>1</td>\n",
       "      <td>3</td>\n",
       "      <td>NaN</td>\n",
       "      <td>NaN</td>\n",
       "      <td>NaN</td>\n",
       "    </tr>\n",
       "    <tr>\n",
       "      <th>26</th>\n",
       "      <td>54</td>\n",
       "      <td>Trauma</td>\n",
       "      <td>F</td>\n",
       "      <td>54.33</td>\n",
       "      <td>27.00</td>\n",
       "      <td>0.04</td>\n",
       "      <td>6.8</td>\n",
       "      <td>18.0</td>\n",
       "      <td>5.21</td>\n",
       "      <td>2</td>\n",
       "      <td>12</td>\n",
       "      <td>NaN</td>\n",
       "      <td>NaN</td>\n",
       "      <td>NaN</td>\n",
       "    </tr>\n",
       "    <tr>\n",
       "      <th>27</th>\n",
       "      <td>55</td>\n",
       "      <td>Trauma</td>\n",
       "      <td>M</td>\n",
       "      <td>46.00</td>\n",
       "      <td>39.20</td>\n",
       "      <td>0.04</td>\n",
       "      <td>12.2</td>\n",
       "      <td>NaN</td>\n",
       "      <td>NaN</td>\n",
       "      <td>1</td>\n",
       "      <td>6</td>\n",
       "      <td>NaN</td>\n",
       "      <td>NaN</td>\n",
       "      <td>NaN</td>\n",
       "    </tr>\n",
       "    <tr>\n",
       "      <th>28</th>\n",
       "      <td>58</td>\n",
       "      <td>Trauma</td>\n",
       "      <td>F</td>\n",
       "      <td>63.00</td>\n",
       "      <td>30.60</td>\n",
       "      <td>0.02</td>\n",
       "      <td>11.7</td>\n",
       "      <td>NaN</td>\n",
       "      <td>5.44</td>\n",
       "      <td>2</td>\n",
       "      <td>7</td>\n",
       "      <td>NaN</td>\n",
       "      <td>NaN</td>\n",
       "      <td>NaN</td>\n",
       "    </tr>\n",
       "    <tr>\n",
       "      <th>29</th>\n",
       "      <td>62</td>\n",
       "      <td>Trauma</td>\n",
       "      <td>M</td>\n",
       "      <td>29.27</td>\n",
       "      <td>21.40</td>\n",
       "      <td>0.04</td>\n",
       "      <td>7.2</td>\n",
       "      <td>NaN</td>\n",
       "      <td>NaN</td>\n",
       "      <td>2</td>\n",
       "      <td>6</td>\n",
       "      <td>NaN</td>\n",
       "      <td>60.10</td>\n",
       "      <td>34.77</td>\n",
       "    </tr>\n",
       "    <tr>\n",
       "      <th>30</th>\n",
       "      <td>63</td>\n",
       "      <td>Trauma</td>\n",
       "      <td>F</td>\n",
       "      <td>34.82</td>\n",
       "      <td>48.43</td>\n",
       "      <td>0.04</td>\n",
       "      <td>9.2</td>\n",
       "      <td>15.0</td>\n",
       "      <td>3.43</td>\n",
       "      <td>2</td>\n",
       "      <td>5</td>\n",
       "      <td>NaN</td>\n",
       "      <td>61.19</td>\n",
       "      <td>41.46</td>\n",
       "    </tr>\n",
       "    <tr>\n",
       "      <th>31</th>\n",
       "      <td>84</td>\n",
       "      <td>Trauma</td>\n",
       "      <td>F</td>\n",
       "      <td>24.42</td>\n",
       "      <td>19.79</td>\n",
       "      <td>0.02</td>\n",
       "      <td>5.4</td>\n",
       "      <td>6.0</td>\n",
       "      <td>2.30</td>\n",
       "      <td>1</td>\n",
       "      <td>0</td>\n",
       "      <td>NaN</td>\n",
       "      <td>46.31</td>\n",
       "      <td>40.36</td>\n",
       "    </tr>\n",
       "    <tr>\n",
       "      <th>32</th>\n",
       "      <td>95</td>\n",
       "      <td>Trauma</td>\n",
       "      <td>M</td>\n",
       "      <td>19.34</td>\n",
       "      <td>23.44</td>\n",
       "      <td>0.02</td>\n",
       "      <td>6.1</td>\n",
       "      <td>19.0</td>\n",
       "      <td>6.41</td>\n",
       "      <td>1</td>\n",
       "      <td>1</td>\n",
       "      <td>NaN</td>\n",
       "      <td>26.28</td>\n",
       "      <td>66.34</td>\n",
       "    </tr>\n",
       "  </tbody>\n",
       "</table>\n",
       "</div>"
      ],
      "text/plain": [
       "    Sample i.d. Pathology Gender  Age (years)  BMI (kg/m2)  \\\n",
       "15          169        OA      F        54.66        33.56   \n",
       "21           88     Scope      M        29.16        25.25   \n",
       "24          155     Scope      F        25.25        24.06   \n",
       "25           46    Trauma      M        37.33        24.19   \n",
       "26           54    Trauma      F        54.33        27.00   \n",
       "27           55    Trauma      M        46.00        39.20   \n",
       "28           58    Trauma      F        63.00        30.60   \n",
       "29           62    Trauma      M        29.27        21.40   \n",
       "30           63    Trauma      F        34.82        48.43   \n",
       "31           84    Trauma      F        24.42        19.79   \n",
       "32           95    Trauma      M        19.34        23.44   \n",
       "\n",
       "    Duration of symptoms (years)  WCC x109/L  CRP (mg/l)  S100a8a9  ASA grade  \\\n",
       "15                          3.00         4.4         1.0       NaN          2   \n",
       "21                          1.00        14.4         1.0      4.50          1   \n",
       "24                          1.50         8.8         1.0       NaN          1   \n",
       "25                          0.02         7.6        61.0      4.80          1   \n",
       "26                          0.04         6.8        18.0      5.21          2   \n",
       "27                          0.04        12.2         NaN       NaN          1   \n",
       "28                          0.02        11.7         NaN      5.44          2   \n",
       "29                          0.04         7.2         NaN       NaN          2   \n",
       "30                          0.04         9.2        15.0      3.43          2   \n",
       "31                          0.02         5.4         6.0      2.30          1   \n",
       "32                          0.02         6.1        19.0      6.41          1   \n",
       "\n",
       "    CIRS  WOMAC score  SF-12 Ph  SF-12 M  \n",
       "15     9         65.0     26.71    40.03  \n",
       "21     1          NaN       NaN      NaN  \n",
       "24     1          1.0     52.76    58.52  \n",
       "25     3          NaN       NaN      NaN  \n",
       "26    12          NaN       NaN      NaN  \n",
       "27     6          NaN       NaN      NaN  \n",
       "28     7          NaN       NaN      NaN  \n",
       "29     6          NaN     60.10    34.77  \n",
       "30     5          NaN     61.19    41.46  \n",
       "31     0          NaN     46.31    40.36  \n",
       "32     1          NaN     26.28    66.34  "
      ]
     },
     "execution_count": 17,
     "metadata": {},
     "output_type": "execute_result"
    }
   ],
   "source": [
    "nan_patients_data"
   ]
  },
  {
   "cell_type": "code",
   "execution_count": 18,
   "metadata": {},
   "outputs": [
    {
     "data": {
      "text/plain": [
       "Sample i.d.                       int64\n",
       "Pathology                        object\n",
       "Gender                           object\n",
       "Age (years)                     float64\n",
       "BMI (kg/m2)                     float64\n",
       "Duration of symptoms (years)    float64\n",
       "WCC x109/L                      float64\n",
       "CRP (mg/l)                      float64\n",
       "S100a8a9                        float64\n",
       "ASA grade                         int64\n",
       "CIRS                              int64\n",
       "WOMAC score                     float64\n",
       "SF-12 Ph                        float64\n",
       "SF-12 M                         float64\n",
       "dtype: object"
      ]
     },
     "execution_count": 18,
     "metadata": {},
     "output_type": "execute_result"
    }
   ],
   "source": [
    "patients_data.dtypes"
   ]
  },
  {
   "cell_type": "code",
   "execution_count": 19,
   "metadata": {},
   "outputs": [
    {
     "data": {
      "text/html": [
       "<div>\n",
       "<style scoped>\n",
       "    .dataframe tbody tr th:only-of-type {\n",
       "        vertical-align: middle;\n",
       "    }\n",
       "\n",
       "    .dataframe tbody tr th {\n",
       "        vertical-align: top;\n",
       "    }\n",
       "\n",
       "    .dataframe thead th {\n",
       "        text-align: right;\n",
       "    }\n",
       "</style>\n",
       "<table border=\"1\" class=\"dataframe\">\n",
       "  <thead>\n",
       "    <tr style=\"text-align: right;\">\n",
       "      <th></th>\n",
       "      <th>Age (years)</th>\n",
       "      <th>BMI (kg/m2)</th>\n",
       "      <th>Duration of symptoms (years)</th>\n",
       "      <th>WCC x109/L</th>\n",
       "      <th>CRP (mg/l)</th>\n",
       "      <th>S100a8a9</th>\n",
       "      <th>ASA grade</th>\n",
       "      <th>CIRS</th>\n",
       "      <th>WOMAC score</th>\n",
       "      <th>SF-12 Ph</th>\n",
       "      <th>SF-12 M</th>\n",
       "    </tr>\n",
       "  </thead>\n",
       "  <tbody>\n",
       "    <tr>\n",
       "      <th>count</th>\n",
       "      <td>33.0</td>\n",
       "      <td>33.0</td>\n",
       "      <td>33.0</td>\n",
       "      <td>33.0</td>\n",
       "      <td>30.0</td>\n",
       "      <td>29.0</td>\n",
       "      <td>33.0</td>\n",
       "      <td>33.0</td>\n",
       "      <td>24.0</td>\n",
       "      <td>28.0</td>\n",
       "      <td>28.0</td>\n",
       "    </tr>\n",
       "    <tr>\n",
       "      <th>mean</th>\n",
       "      <td>47.6</td>\n",
       "      <td>28.4</td>\n",
       "      <td>4.7</td>\n",
       "      <td>7.3</td>\n",
       "      <td>5.6</td>\n",
       "      <td>5.5</td>\n",
       "      <td>1.5</td>\n",
       "      <td>4.7</td>\n",
       "      <td>47.3</td>\n",
       "      <td>35.2</td>\n",
       "      <td>55.5</td>\n",
       "    </tr>\n",
       "    <tr>\n",
       "      <th>std</th>\n",
       "      <td>17.9</td>\n",
       "      <td>6.3</td>\n",
       "      <td>6.7</td>\n",
       "      <td>2.2</td>\n",
       "      <td>12.0</td>\n",
       "      <td>1.6</td>\n",
       "      <td>0.5</td>\n",
       "      <td>3.1</td>\n",
       "      <td>31.5</td>\n",
       "      <td>12.4</td>\n",
       "      <td>11.7</td>\n",
       "    </tr>\n",
       "    <tr>\n",
       "      <th>min</th>\n",
       "      <td>19.3</td>\n",
       "      <td>19.8</td>\n",
       "      <td>0.0</td>\n",
       "      <td>4.1</td>\n",
       "      <td>1.0</td>\n",
       "      <td>2.3</td>\n",
       "      <td>1.0</td>\n",
       "      <td>0.0</td>\n",
       "      <td>1.0</td>\n",
       "      <td>13.2</td>\n",
       "      <td>26.5</td>\n",
       "    </tr>\n",
       "    <tr>\n",
       "      <th>25%</th>\n",
       "      <td>29.2</td>\n",
       "      <td>24.2</td>\n",
       "      <td>0.5</td>\n",
       "      <td>6.1</td>\n",
       "      <td>1.0</td>\n",
       "      <td>4.8</td>\n",
       "      <td>1.0</td>\n",
       "      <td>2.0</td>\n",
       "      <td>10.5</td>\n",
       "      <td>26.1</td>\n",
       "      <td>45.4</td>\n",
       "    </tr>\n",
       "    <tr>\n",
       "      <th>50%</th>\n",
       "      <td>54.3</td>\n",
       "      <td>26.4</td>\n",
       "      <td>1.5</td>\n",
       "      <td>6.8</td>\n",
       "      <td>1.0</td>\n",
       "      <td>5.4</td>\n",
       "      <td>2.0</td>\n",
       "      <td>4.0</td>\n",
       "      <td>62.0</td>\n",
       "      <td>34.3</td>\n",
       "      <td>58.9</td>\n",
       "    </tr>\n",
       "    <tr>\n",
       "      <th>75%</th>\n",
       "      <td>60.0</td>\n",
       "      <td>32.6</td>\n",
       "      <td>7.0</td>\n",
       "      <td>7.3</td>\n",
       "      <td>1.0</td>\n",
       "      <td>6.0</td>\n",
       "      <td>2.0</td>\n",
       "      <td>7.0</td>\n",
       "      <td>71.2</td>\n",
       "      <td>44.6</td>\n",
       "      <td>65.2</td>\n",
       "    </tr>\n",
       "    <tr>\n",
       "      <th>max</th>\n",
       "      <td>76.0</td>\n",
       "      <td>48.4</td>\n",
       "      <td>27.0</td>\n",
       "      <td>14.4</td>\n",
       "      <td>61.0</td>\n",
       "      <td>10.2</td>\n",
       "      <td>2.0</td>\n",
       "      <td>12.0</td>\n",
       "      <td>96.0</td>\n",
       "      <td>61.2</td>\n",
       "      <td>68.7</td>\n",
       "    </tr>\n",
       "  </tbody>\n",
       "</table>\n",
       "</div>"
      ],
      "text/plain": [
       "       Age (years)  BMI (kg/m2)  Duration of symptoms (years)  WCC x109/L  \\\n",
       "count         33.0         33.0                          33.0        33.0   \n",
       "mean          47.6         28.4                           4.7         7.3   \n",
       "std           17.9          6.3                           6.7         2.2   \n",
       "min           19.3         19.8                           0.0         4.1   \n",
       "25%           29.2         24.2                           0.5         6.1   \n",
       "50%           54.3         26.4                           1.5         6.8   \n",
       "75%           60.0         32.6                           7.0         7.3   \n",
       "max           76.0         48.4                          27.0        14.4   \n",
       "\n",
       "       CRP (mg/l)  S100a8a9  ASA grade  CIRS  WOMAC score  SF-12 Ph  SF-12 M  \n",
       "count        30.0      29.0       33.0  33.0         24.0      28.0     28.0  \n",
       "mean          5.6       5.5        1.5   4.7         47.3      35.2     55.5  \n",
       "std          12.0       1.6        0.5   3.1         31.5      12.4     11.7  \n",
       "min           1.0       2.3        1.0   0.0          1.0      13.2     26.5  \n",
       "25%           1.0       4.8        1.0   2.0         10.5      26.1     45.4  \n",
       "50%           1.0       5.4        2.0   4.0         62.0      34.3     58.9  \n",
       "75%           1.0       6.0        2.0   7.0         71.2      44.6     65.2  \n",
       "max          61.0      10.2        2.0  12.0         96.0      61.2     68.7  "
      ]
     },
     "execution_count": 19,
     "metadata": {},
     "output_type": "execute_result"
    }
   ],
   "source": [
    "patients_data.drop(columns='Sample i.d.').describe().round(1)"
   ]
  },
  {
   "cell_type": "code",
   "execution_count": 10,
   "metadata": {},
   "outputs": [
    {
     "data": {
      "text/plain": [
       "<AxesSubplot: >"
      ]
     },
     "execution_count": 10,
     "metadata": {},
     "output_type": "execute_result"
    },
    {
     "data": {
      "image/png": "[encoded data removed]",
      "text/plain": [
       "<Figure size 640x480 with 1 Axes>"
      ]
     },
     "metadata": {},
     "output_type": "display_data"
    }
   ],
   "source": [
    "patients_data.boxplot(column = ['Age (years)', 'BMI (kg/m2)', 'Duration of symptoms (years)'])"
   ]
  },
  {
   "cell_type": "code",
   "execution_count": 21,
   "metadata": {},
   "outputs": [
    {
     "data": {
      "text/plain": [
       "<Axes: xlabel='Pathology', ylabel='count'>"
      ]
     },
     "execution_count": 21,
     "metadata": {},
     "output_type": "execute_result"
    },
    {
     "data": {
      "image/png": "[encoded data removed]",
      "text/plain": [
       "<Figure size 700x400 with 1 Axes>"
      ]
     },
     "metadata": {},
     "output_type": "display_data"
    }
   ],
   "source": [
    "fig, ax = plt.subplots(figsize = (7, 4))\n",
    "sns.countplot(patients_data, x= 'Pathology')"
   ]
  },
  {
   "cell_type": "code",
   "execution_count": 22,
   "metadata": {},
   "outputs": [
    {
     "data": {
      "text/plain": [
       "Sample i.d.                     0\n",
       "Pathology                       0\n",
       "Gender                          0\n",
       "Age (years)                     0\n",
       "BMI (kg/m2)                     0\n",
       "Duration of symptoms (years)    0\n",
       "WCC x109/L                      0\n",
       "CRP (mg/l)                      3\n",
       "S100a8a9                        4\n",
       "ASA grade                       0\n",
       "CIRS                            0\n",
       "WOMAC score                     9\n",
       "SF-12 Ph                        5\n",
       "SF-12 M                         5\n",
       "dtype: int64"
      ]
     },
     "execution_count": 22,
     "metadata": {},
     "output_type": "execute_result"
    }
   ],
   "source": [
    "patients_data.isna().sum()"
   ]
  },
  {
   "cell_type": "code",
   "execution_count": 23,
   "metadata": {},
   "outputs": [],
   "source": [
    "tissue_histology_data = pd.read_excel('Individual_patients_synovial_tissue_histology_analysis.xlsx')"
   ]
  },
  {
   "cell_type": "code",
   "execution_count": 24,
   "metadata": {},
   "outputs": [
    {
     "data": {
      "text/html": [
       "<div>\n",
       "<style scoped>\n",
       "    .dataframe tbody tr th:only-of-type {\n",
       "        vertical-align: middle;\n",
       "    }\n",
       "\n",
       "    .dataframe tbody tr th {\n",
       "        vertical-align: top;\n",
       "    }\n",
       "\n",
       "    .dataframe thead th {\n",
       "        text-align: right;\n",
       "    }\n",
       "</style>\n",
       "<table border=\"1\" class=\"dataframe\">\n",
       "  <thead>\n",
       "    <tr style=\"text-align: right;\">\n",
       "      <th></th>\n",
       "      <th>Sample i.d.</th>\n",
       "      <th>Pain Score</th>\n",
       "      <th>Synovitis grade</th>\n",
       "      <th>Synovial lining hyperplasia</th>\n",
       "      <th>Density of the resident cells</th>\n",
       "      <th>Inflammatory infiltrate</th>\n",
       "      <th>Presence of cartilage inclusion</th>\n",
       "      <th>Diffuse infiltrate</th>\n",
       "      <th>Peri-vascular focal infiltrate</th>\n",
       "      <th>Peri-cartilage</th>\n",
       "    </tr>\n",
       "  </thead>\n",
       "  <tbody>\n",
       "    <tr>\n",
       "      <th>0</th>\n",
       "      <td>16</td>\n",
       "      <td>7.0</td>\n",
       "      <td>5.0</td>\n",
       "      <td>2.0</td>\n",
       "      <td>1.0</td>\n",
       "      <td>2.0</td>\n",
       "      <td>no</td>\n",
       "      <td>yes</td>\n",
       "      <td>no</td>\n",
       "      <td>no</td>\n",
       "    </tr>\n",
       "    <tr>\n",
       "      <th>1</th>\n",
       "      <td>29</td>\n",
       "      <td>10.0</td>\n",
       "      <td>7.0</td>\n",
       "      <td>3.0</td>\n",
       "      <td>2.0</td>\n",
       "      <td>2.0</td>\n",
       "      <td>yes</td>\n",
       "      <td>no</td>\n",
       "      <td>no</td>\n",
       "      <td>no</td>\n",
       "    </tr>\n",
       "    <tr>\n",
       "      <th>2</th>\n",
       "      <td>31</td>\n",
       "      <td>9.0</td>\n",
       "      <td>NaN</td>\n",
       "      <td>NaN</td>\n",
       "      <td>NaN</td>\n",
       "      <td>NaN</td>\n",
       "      <td>no</td>\n",
       "      <td>yes</td>\n",
       "      <td>no</td>\n",
       "      <td>no</td>\n",
       "    </tr>\n",
       "    <tr>\n",
       "      <th>3</th>\n",
       "      <td>35</td>\n",
       "      <td>5.0</td>\n",
       "      <td>8.0</td>\n",
       "      <td>2.0</td>\n",
       "      <td>3.0</td>\n",
       "      <td>3.0</td>\n",
       "      <td>yes</td>\n",
       "      <td>yes</td>\n",
       "      <td>yes</td>\n",
       "      <td>yes</td>\n",
       "    </tr>\n",
       "    <tr>\n",
       "      <th>4</th>\n",
       "      <td>36</td>\n",
       "      <td>10.0</td>\n",
       "      <td>NaN</td>\n",
       "      <td>NaN</td>\n",
       "      <td>NaN</td>\n",
       "      <td>NaN</td>\n",
       "      <td>ND</td>\n",
       "      <td>ND</td>\n",
       "      <td>ND</td>\n",
       "      <td>ND</td>\n",
       "    </tr>\n",
       "  </tbody>\n",
       "</table>\n",
       "</div>"
      ],
      "text/plain": [
       "   Sample i.d.  Pain Score  Synovitis grade  Synovial lining hyperplasia  \\\n",
       "0           16         7.0              5.0                          2.0   \n",
       "1           29        10.0              7.0                          3.0   \n",
       "2           31         9.0              NaN                          NaN   \n",
       "3           35         5.0              8.0                          2.0   \n",
       "4           36        10.0              NaN                          NaN   \n",
       "\n",
       "   Density of the resident cells  Inflammatory infiltrate  \\\n",
       "0                            1.0                      2.0   \n",
       "1                            2.0                      2.0   \n",
       "2                            NaN                      NaN   \n",
       "3                            3.0                      3.0   \n",
       "4                            NaN                      NaN   \n",
       "\n",
       "  Presence of cartilage inclusion Diffuse infiltrate  \\\n",
       "0                              no                yes   \n",
       "1                             yes                 no   \n",
       "2                              no                yes   \n",
       "3                             yes                yes   \n",
       "4                              ND                 ND   \n",
       "\n",
       "  Peri-vascular focal infiltrate Peri-cartilage  \n",
       "0                             no             no  \n",
       "1                             no             no  \n",
       "2                             no             no  \n",
       "3                            yes            yes  \n",
       "4                             ND             ND  "
      ]
     },
     "execution_count": 24,
     "metadata": {},
     "output_type": "execute_result"
    }
   ],
   "source": [
    "tissue_histology_data.head()"
   ]
  },
  {
   "cell_type": "code",
   "execution_count": 25,
   "metadata": {},
   "outputs": [
    {
     "data": {
      "text/html": [
       "<div>\n",
       "<style scoped>\n",
       "    .dataframe tbody tr th:only-of-type {\n",
       "        vertical-align: middle;\n",
       "    }\n",
       "\n",
       "    .dataframe tbody tr th {\n",
       "        vertical-align: top;\n",
       "    }\n",
       "\n",
       "    .dataframe thead th {\n",
       "        text-align: right;\n",
       "    }\n",
       "</style>\n",
       "<table border=\"1\" class=\"dataframe\">\n",
       "  <thead>\n",
       "    <tr style=\"text-align: right;\">\n",
       "      <th></th>\n",
       "      <th>Synovitis grade</th>\n",
       "      <th>Synovial lining hyperplasia</th>\n",
       "      <th>Density of the resident cells</th>\n",
       "      <th>Inflammatory infiltrate</th>\n",
       "    </tr>\n",
       "  </thead>\n",
       "  <tbody>\n",
       "    <tr>\n",
       "      <th>count</th>\n",
       "      <td>28.0</td>\n",
       "      <td>28.0</td>\n",
       "      <td>28.0</td>\n",
       "      <td>28.0</td>\n",
       "    </tr>\n",
       "    <tr>\n",
       "      <th>mean</th>\n",
       "      <td>6.6</td>\n",
       "      <td>2.1</td>\n",
       "      <td>2.2</td>\n",
       "      <td>2.2</td>\n",
       "    </tr>\n",
       "    <tr>\n",
       "      <th>std</th>\n",
       "      <td>1.4</td>\n",
       "      <td>0.8</td>\n",
       "      <td>0.6</td>\n",
       "      <td>0.6</td>\n",
       "    </tr>\n",
       "    <tr>\n",
       "      <th>min</th>\n",
       "      <td>3.0</td>\n",
       "      <td>1.0</td>\n",
       "      <td>1.0</td>\n",
       "      <td>1.0</td>\n",
       "    </tr>\n",
       "    <tr>\n",
       "      <th>25%</th>\n",
       "      <td>5.8</td>\n",
       "      <td>2.0</td>\n",
       "      <td>2.0</td>\n",
       "      <td>2.0</td>\n",
       "    </tr>\n",
       "    <tr>\n",
       "      <th>50%</th>\n",
       "      <td>7.0</td>\n",
       "      <td>2.0</td>\n",
       "      <td>2.0</td>\n",
       "      <td>2.0</td>\n",
       "    </tr>\n",
       "    <tr>\n",
       "      <th>75%</th>\n",
       "      <td>8.0</td>\n",
       "      <td>3.0</td>\n",
       "      <td>3.0</td>\n",
       "      <td>3.0</td>\n",
       "    </tr>\n",
       "    <tr>\n",
       "      <th>max</th>\n",
       "      <td>9.0</td>\n",
       "      <td>3.0</td>\n",
       "      <td>3.0</td>\n",
       "      <td>3.0</td>\n",
       "    </tr>\n",
       "  </tbody>\n",
       "</table>\n",
       "</div>"
      ],
      "text/plain": [
       "       Synovitis grade  Synovial lining hyperplasia  \\\n",
       "count             28.0                         28.0   \n",
       "mean               6.6                          2.1   \n",
       "std                1.4                          0.8   \n",
       "min                3.0                          1.0   \n",
       "25%                5.8                          2.0   \n",
       "50%                7.0                          2.0   \n",
       "75%                8.0                          3.0   \n",
       "max                9.0                          3.0   \n",
       "\n",
       "       Density of the resident cells  Inflammatory infiltrate  \n",
       "count                           28.0                     28.0  \n",
       "mean                             2.2                      2.2  \n",
       "std                              0.6                      0.6  \n",
       "min                              1.0                      1.0  \n",
       "25%                              2.0                      2.0  \n",
       "50%                              2.0                      2.0  \n",
       "75%                              3.0                      3.0  \n",
       "max                              3.0                      3.0  "
      ]
     },
     "execution_count": 25,
     "metadata": {},
     "output_type": "execute_result"
    }
   ],
   "source": [
    "tissue_histology_data.drop(columns = ['Sample i.d.', 'Pain Score']).describe().round(1)"
   ]
  },
  {
   "cell_type": "code",
   "execution_count": 15,
   "metadata": {},
   "outputs": [
    {
     "data": {
      "text/plain": [
       "19"
      ]
     },
     "execution_count": 15,
     "metadata": {},
     "output_type": "execute_result"
    }
   ],
   "source": [
    "nan_tissue_histology_data = tissue_histology_data[tissue_histology_data.isna().any(axis=1)]\n",
    "len(nan_tissue_histology_data)"
   ]
  },
  {
   "cell_type": "code",
   "execution_count": 25,
   "metadata": {},
   "outputs": [
    {
     "data": {
      "text/plain": [
       "Sample i.d.                         0\n",
       "Pain Score                         17\n",
       "Synovitis grade                     5\n",
       "Synovial lining hyperplasia         5\n",
       "Density of the resident cells       5\n",
       "Inflammatory infiltrate             5\n",
       "Presence of cartilage inclusion     0\n",
       "Diffuse infiltrate                  0\n",
       "Peri-vascular focal infiltrate      0\n",
       "Peri-cartilage                      0\n",
       "dtype: int64"
      ]
     },
     "execution_count": 25,
     "metadata": {},
     "output_type": "execute_result"
    }
   ],
   "source": [
    "tissue_histology_data.isna().sum()"
   ]
  },
  {
   "cell_type": "markdown",
   "metadata": {},
   "source": [
    "Данные рг и pain score отсутствуют у групп кроме ОА, пропущены целые признаки\n",
    "Неизвестно, почему пропущены данные "
   ]
  },
  {
   "cell_type": "code",
   "execution_count": 26,
   "metadata": {},
   "outputs": [
    {
     "data": {
      "text/plain": [
       "<AxesSubplot: xlabel='Synovitis grade', ylabel='count'>"
      ]
     },
     "execution_count": 26,
     "metadata": {},
     "output_type": "execute_result"
    },
    {
     "data": {
      "image/png": "[encoded data removed]",
      "text/plain": [
       "<Figure size 1500x400 with 1 Axes>"
      ]
     },
     "metadata": {},
     "output_type": "display_data"
    }
   ],
   "source": [
    "fig, ax = plt.subplots(figsize = (15, 4))\n",
    "sns.countplot(data=tissue_histology_data, x='Synovitis grade')"
   ]
  },
  {
   "cell_type": "code",
   "execution_count": 27,
   "metadata": {},
   "outputs": [
    {
     "data": {
      "text/plain": [
       "Sample i.d.                          int64\n",
       "Pain Score                         float64\n",
       "Synovitis grade                    float64\n",
       "Synovial lining hyperplasia        float64\n",
       "Density of the resident cells      float64\n",
       "Inflammatory infiltrate            float64\n",
       "Presence of cartilage inclusion     object\n",
       "Diffuse infiltrate                  object\n",
       "Peri-vascular focal infiltrate      object\n",
       "Peri-cartilage                      object\n",
       "dtype: object"
      ]
     },
     "execution_count": 27,
     "metadata": {},
     "output_type": "execute_result"
    }
   ],
   "source": [
    "tissue_histology_data.dtypes"
   ]
  },
  {
   "cell_type": "code",
   "execution_count": 6,
   "metadata": {},
   "outputs": [],
   "source": [
    "radiology_data = pd.read_excel('C:/ide/master/datasets/synovial_YOLO_dataset/Patients Demography Dataset/radiology-findings.xlsx')"
   ]
  },
  {
   "cell_type": "code",
   "execution_count": 31,
   "metadata": {},
   "outputs": [
    {
     "data": {
      "text/plain": [
       "(16, 11)"
      ]
     },
     "execution_count": 31,
     "metadata": {},
     "output_type": "execute_result"
    }
   ],
   "source": [
    "radiology_data.shape"
   ]
  },
  {
   "cell_type": "code",
   "execution_count": null,
   "metadata": {},
   "outputs": [],
   "source": [
    "radiology_data.head()"
   ]
  },
  {
   "cell_type": "code",
   "execution_count": 7,
   "metadata": {},
   "outputs": [
    {
     "data": {
      "text/html": [
       "<div>\n",
       "<style scoped>\n",
       "    .dataframe tbody tr th:only-of-type {\n",
       "        vertical-align: middle;\n",
       "    }\n",
       "\n",
       "    .dataframe tbody tr th {\n",
       "        vertical-align: top;\n",
       "    }\n",
       "\n",
       "    .dataframe thead th {\n",
       "        text-align: right;\n",
       "    }\n",
       "</style>\n",
       "<table border=\"1\" class=\"dataframe\">\n",
       "  <thead>\n",
       "    <tr style=\"text-align: right;\">\n",
       "      <th></th>\n",
       "      <th>Sample i.d.</th>\n",
       "      <th>Pathology</th>\n",
       "      <th>Gender</th>\n",
       "      <th>Age (years)</th>\n",
       "      <th>BMI (kg/m2)</th>\n",
       "      <th>Duration of symptoms (years)</th>\n",
       "      <th>WCC x109/L</th>\n",
       "      <th>CRP (mg/l)</th>\n",
       "      <th>S100a8a9</th>\n",
       "      <th>ASA grade</th>\n",
       "      <th>...</th>\n",
       "      <th>SF-12 M</th>\n",
       "      <th>Pain Score</th>\n",
       "      <th>Synovitis grade</th>\n",
       "      <th>Synovial lining hyperplasia</th>\n",
       "      <th>Density of the resident cells</th>\n",
       "      <th>Inflammatory infiltrate</th>\n",
       "      <th>Presence of cartilage inclusion</th>\n",
       "      <th>Diffuse infiltrate</th>\n",
       "      <th>Peri-vascular focal infiltrate</th>\n",
       "      <th>Peri-cartilage</th>\n",
       "    </tr>\n",
       "  </thead>\n",
       "  <tbody>\n",
       "    <tr>\n",
       "      <th>0</th>\n",
       "      <td>16</td>\n",
       "      <td>OA</td>\n",
       "      <td>M</td>\n",
       "      <td>72.06</td>\n",
       "      <td>35.93</td>\n",
       "      <td>10.0</td>\n",
       "      <td>8.4</td>\n",
       "      <td>1.0</td>\n",
       "      <td>6.05</td>\n",
       "      <td>2</td>\n",
       "      <td>...</td>\n",
       "      <td>50.4</td>\n",
       "      <td>7.0</td>\n",
       "      <td>5.0</td>\n",
       "      <td>2.0</td>\n",
       "      <td>1.0</td>\n",
       "      <td>2.0</td>\n",
       "      <td>no</td>\n",
       "      <td>yes</td>\n",
       "      <td>no</td>\n",
       "      <td>no</td>\n",
       "    </tr>\n",
       "    <tr>\n",
       "      <th>1</th>\n",
       "      <td>29</td>\n",
       "      <td>OA</td>\n",
       "      <td>F</td>\n",
       "      <td>60.05</td>\n",
       "      <td>28.59</td>\n",
       "      <td>9.0</td>\n",
       "      <td>10.3</td>\n",
       "      <td>1.0</td>\n",
       "      <td>5.26</td>\n",
       "      <td>1</td>\n",
       "      <td>...</td>\n",
       "      <td>54.4</td>\n",
       "      <td>10.0</td>\n",
       "      <td>7.0</td>\n",
       "      <td>3.0</td>\n",
       "      <td>2.0</td>\n",
       "      <td>2.0</td>\n",
       "      <td>yes</td>\n",
       "      <td>no</td>\n",
       "      <td>no</td>\n",
       "      <td>no</td>\n",
       "    </tr>\n",
       "    <tr>\n",
       "      <th>2</th>\n",
       "      <td>31</td>\n",
       "      <td>OA</td>\n",
       "      <td>M</td>\n",
       "      <td>69.62</td>\n",
       "      <td>32.19</td>\n",
       "      <td>27.0</td>\n",
       "      <td>6.9</td>\n",
       "      <td>1.0</td>\n",
       "      <td>6.78</td>\n",
       "      <td>2</td>\n",
       "      <td>...</td>\n",
       "      <td>57.2</td>\n",
       "      <td>9.0</td>\n",
       "      <td>NaN</td>\n",
       "      <td>NaN</td>\n",
       "      <td>NaN</td>\n",
       "      <td>NaN</td>\n",
       "      <td>no</td>\n",
       "      <td>yes</td>\n",
       "      <td>no</td>\n",
       "      <td>no</td>\n",
       "    </tr>\n",
       "    <tr>\n",
       "      <th>3</th>\n",
       "      <td>35</td>\n",
       "      <td>OA</td>\n",
       "      <td>M</td>\n",
       "      <td>53.63</td>\n",
       "      <td>32.55</td>\n",
       "      <td>3.0</td>\n",
       "      <td>7.2</td>\n",
       "      <td>1.0</td>\n",
       "      <td>5.42</td>\n",
       "      <td>2</td>\n",
       "      <td>...</td>\n",
       "      <td>56.4</td>\n",
       "      <td>5.0</td>\n",
       "      <td>8.0</td>\n",
       "      <td>2.0</td>\n",
       "      <td>3.0</td>\n",
       "      <td>3.0</td>\n",
       "      <td>yes</td>\n",
       "      <td>yes</td>\n",
       "      <td>yes</td>\n",
       "      <td>yes</td>\n",
       "    </tr>\n",
       "    <tr>\n",
       "      <th>4</th>\n",
       "      <td>36</td>\n",
       "      <td>OA</td>\n",
       "      <td>F</td>\n",
       "      <td>57.83</td>\n",
       "      <td>34.22</td>\n",
       "      <td>20.0</td>\n",
       "      <td>6.6</td>\n",
       "      <td>1.0</td>\n",
       "      <td>6.37</td>\n",
       "      <td>1</td>\n",
       "      <td>...</td>\n",
       "      <td>26.5</td>\n",
       "      <td>10.0</td>\n",
       "      <td>NaN</td>\n",
       "      <td>NaN</td>\n",
       "      <td>NaN</td>\n",
       "      <td>NaN</td>\n",
       "      <td>ND</td>\n",
       "      <td>ND</td>\n",
       "      <td>ND</td>\n",
       "      <td>ND</td>\n",
       "    </tr>\n",
       "  </tbody>\n",
       "</table>\n",
       "<p>5 rows × 23 columns</p>\n",
       "</div>"
      ],
      "text/plain": [
       "   Sample i.d. Pathology Gender  Age (years)  BMI (kg/m2)  \\\n",
       "0           16        OA      M        72.06        35.93   \n",
       "1           29        OA      F        60.05        28.59   \n",
       "2           31        OA      M        69.62        32.19   \n",
       "3           35        OA      M        53.63        32.55   \n",
       "4           36        OA      F        57.83        34.22   \n",
       "\n",
       "   Duration of symptoms (years)  WCC x109/L  CRP (mg/l)  S100a8a9  ASA grade  \\\n",
       "0                          10.0         8.4         1.0      6.05          2   \n",
       "1                           9.0        10.3         1.0      5.26          1   \n",
       "2                          27.0         6.9         1.0      6.78          2   \n",
       "3                           3.0         7.2         1.0      5.42          2   \n",
       "4                          20.0         6.6         1.0      6.37          1   \n",
       "\n",
       "   ...  SF-12 M  Pain Score  Synovitis grade  Synovial lining hyperplasia  \\\n",
       "0  ...     50.4         7.0              5.0                          2.0   \n",
       "1  ...     54.4        10.0              7.0                          3.0   \n",
       "2  ...     57.2         9.0              NaN                          NaN   \n",
       "3  ...     56.4         5.0              8.0                          2.0   \n",
       "4  ...     26.5        10.0              NaN                          NaN   \n",
       "\n",
       "   Density of the resident cells  Inflammatory infiltrate  \\\n",
       "0                            1.0                      2.0   \n",
       "1                            2.0                      2.0   \n",
       "2                            NaN                      NaN   \n",
       "3                            3.0                      3.0   \n",
       "4                            NaN                      NaN   \n",
       "\n",
       "   Presence of cartilage inclusion  Diffuse infiltrate  \\\n",
       "0                               no                 yes   \n",
       "1                              yes                  no   \n",
       "2                               no                 yes   \n",
       "3                              yes                 yes   \n",
       "4                               ND                  ND   \n",
       "\n",
       "   Peri-vascular focal infiltrate Peri-cartilage  \n",
       "0                              no             no  \n",
       "1                              no             no  \n",
       "2                              no             no  \n",
       "3                             yes            yes  \n",
       "4                              ND             ND  \n",
       "\n",
       "[5 rows x 23 columns]"
      ]
     },
     "execution_count": 7,
     "metadata": {},
     "output_type": "execute_result"
    }
   ],
   "source": [
    "merged_data = patients_data.merge(tissue_histology_data, on='Sample i.d.')\n",
    "merged_data.head()"
   ]
  },
  {
   "cell_type": "code",
   "execution_count": 8,
   "metadata": {},
   "outputs": [],
   "source": [
    "merged_data = merged_data.replace(['ND'],'NaN')\n",
    "merged_data = merged_data.drop(labels = [4], axis = 0)\n",
    "merged_data = merged_data.replace(['no'], 0)\n",
    "merged_data = merged_data.replace(['yes'], 1)"
   ]
  },
  {
   "cell_type": "code",
   "execution_count": 9,
   "metadata": {},
   "outputs": [],
   "source": [
    "merged_data = merged_data.drop(2)"
   ]
  },
  {
   "cell_type": "code",
   "execution_count": 10,
   "metadata": {},
   "outputs": [
    {
     "data": {
      "text/html": [
       "<div>\n",
       "<style scoped>\n",
       "    .dataframe tbody tr th:only-of-type {\n",
       "        vertical-align: middle;\n",
       "    }\n",
       "\n",
       "    .dataframe tbody tr th {\n",
       "        vertical-align: top;\n",
       "    }\n",
       "\n",
       "    .dataframe thead th {\n",
       "        text-align: right;\n",
       "    }\n",
       "</style>\n",
       "<table border=\"1\" class=\"dataframe\">\n",
       "  <thead>\n",
       "    <tr style=\"text-align: right;\">\n",
       "      <th></th>\n",
       "      <th>Sample i.d.</th>\n",
       "      <th>Pathology</th>\n",
       "      <th>Gender</th>\n",
       "      <th>Age (years)</th>\n",
       "      <th>BMI (kg/m2)</th>\n",
       "      <th>Duration of symptoms (years)</th>\n",
       "      <th>WCC x109/L</th>\n",
       "      <th>CRP (mg/l)</th>\n",
       "      <th>S100a8a9</th>\n",
       "      <th>ASA grade</th>\n",
       "      <th>...</th>\n",
       "      <th>SF-12 M</th>\n",
       "      <th>Pain Score</th>\n",
       "      <th>Synovitis grade</th>\n",
       "      <th>Synovial lining hyperplasia</th>\n",
       "      <th>Density of the resident cells</th>\n",
       "      <th>Inflammatory infiltrate</th>\n",
       "      <th>Presence of cartilage inclusion</th>\n",
       "      <th>Diffuse infiltrate</th>\n",
       "      <th>Peri-vascular focal infiltrate</th>\n",
       "      <th>Peri-cartilage</th>\n",
       "    </tr>\n",
       "  </thead>\n",
       "  <tbody>\n",
       "    <tr>\n",
       "      <th>0</th>\n",
       "      <td>16</td>\n",
       "      <td>OA</td>\n",
       "      <td>M</td>\n",
       "      <td>72.06</td>\n",
       "      <td>35.93</td>\n",
       "      <td>10.0</td>\n",
       "      <td>8.4</td>\n",
       "      <td>1.0</td>\n",
       "      <td>6.05</td>\n",
       "      <td>2</td>\n",
       "      <td>...</td>\n",
       "      <td>50.4</td>\n",
       "      <td>7.0</td>\n",
       "      <td>5.0</td>\n",
       "      <td>2.0</td>\n",
       "      <td>1.0</td>\n",
       "      <td>2.0</td>\n",
       "      <td>0</td>\n",
       "      <td>1</td>\n",
       "      <td>0</td>\n",
       "      <td>0</td>\n",
       "    </tr>\n",
       "    <tr>\n",
       "      <th>1</th>\n",
       "      <td>29</td>\n",
       "      <td>OA</td>\n",
       "      <td>F</td>\n",
       "      <td>60.05</td>\n",
       "      <td>28.59</td>\n",
       "      <td>9.0</td>\n",
       "      <td>10.3</td>\n",
       "      <td>1.0</td>\n",
       "      <td>5.26</td>\n",
       "      <td>1</td>\n",
       "      <td>...</td>\n",
       "      <td>54.4</td>\n",
       "      <td>10.0</td>\n",
       "      <td>7.0</td>\n",
       "      <td>3.0</td>\n",
       "      <td>2.0</td>\n",
       "      <td>2.0</td>\n",
       "      <td>1</td>\n",
       "      <td>0</td>\n",
       "      <td>0</td>\n",
       "      <td>0</td>\n",
       "    </tr>\n",
       "    <tr>\n",
       "      <th>3</th>\n",
       "      <td>35</td>\n",
       "      <td>OA</td>\n",
       "      <td>M</td>\n",
       "      <td>53.63</td>\n",
       "      <td>32.55</td>\n",
       "      <td>3.0</td>\n",
       "      <td>7.2</td>\n",
       "      <td>1.0</td>\n",
       "      <td>5.42</td>\n",
       "      <td>2</td>\n",
       "      <td>...</td>\n",
       "      <td>56.4</td>\n",
       "      <td>5.0</td>\n",
       "      <td>8.0</td>\n",
       "      <td>2.0</td>\n",
       "      <td>3.0</td>\n",
       "      <td>3.0</td>\n",
       "      <td>1</td>\n",
       "      <td>1</td>\n",
       "      <td>1</td>\n",
       "      <td>1</td>\n",
       "    </tr>\n",
       "    <tr>\n",
       "      <th>5</th>\n",
       "      <td>43</td>\n",
       "      <td>OA</td>\n",
       "      <td>F</td>\n",
       "      <td>63.67</td>\n",
       "      <td>29.02</td>\n",
       "      <td>5.0</td>\n",
       "      <td>7.2</td>\n",
       "      <td>1.0</td>\n",
       "      <td>6.64</td>\n",
       "      <td>2</td>\n",
       "      <td>...</td>\n",
       "      <td>68.3</td>\n",
       "      <td>8.0</td>\n",
       "      <td>8.0</td>\n",
       "      <td>3.0</td>\n",
       "      <td>2.0</td>\n",
       "      <td>3.0</td>\n",
       "      <td>1</td>\n",
       "      <td>1</td>\n",
       "      <td>1</td>\n",
       "      <td>1</td>\n",
       "    </tr>\n",
       "    <tr>\n",
       "      <th>6</th>\n",
       "      <td>44</td>\n",
       "      <td>OA</td>\n",
       "      <td>M</td>\n",
       "      <td>71.73</td>\n",
       "      <td>32.70</td>\n",
       "      <td>5.0</td>\n",
       "      <td>6.1</td>\n",
       "      <td>1.0</td>\n",
       "      <td>5.07</td>\n",
       "      <td>2</td>\n",
       "      <td>...</td>\n",
       "      <td>68.0</td>\n",
       "      <td>5.0</td>\n",
       "      <td>6.0</td>\n",
       "      <td>2.0</td>\n",
       "      <td>2.0</td>\n",
       "      <td>2.0</td>\n",
       "      <td>0</td>\n",
       "      <td>1</td>\n",
       "      <td>1</td>\n",
       "      <td>0</td>\n",
       "    </tr>\n",
       "  </tbody>\n",
       "</table>\n",
       "<p>5 rows × 23 columns</p>\n",
       "</div>"
      ],
      "text/plain": [
       "   Sample i.d. Pathology Gender  Age (years)  BMI (kg/m2)  \\\n",
       "0           16        OA      M        72.06        35.93   \n",
       "1           29        OA      F        60.05        28.59   \n",
       "3           35        OA      M        53.63        32.55   \n",
       "5           43        OA      F        63.67        29.02   \n",
       "6           44        OA      M        71.73        32.70   \n",
       "\n",
       "   Duration of symptoms (years)  WCC x109/L  CRP (mg/l)  S100a8a9  ASA grade  \\\n",
       "0                          10.0         8.4         1.0      6.05          2   \n",
       "1                           9.0        10.3         1.0      5.26          1   \n",
       "3                           3.0         7.2         1.0      5.42          2   \n",
       "5                           5.0         7.2         1.0      6.64          2   \n",
       "6                           5.0         6.1         1.0      5.07          2   \n",
       "\n",
       "   ...  SF-12 M  Pain Score  Synovitis grade  Synovial lining hyperplasia  \\\n",
       "0  ...     50.4         7.0              5.0                          2.0   \n",
       "1  ...     54.4        10.0              7.0                          3.0   \n",
       "3  ...     56.4         5.0              8.0                          2.0   \n",
       "5  ...     68.3         8.0              8.0                          3.0   \n",
       "6  ...     68.0         5.0              6.0                          2.0   \n",
       "\n",
       "   Density of the resident cells  Inflammatory infiltrate  \\\n",
       "0                            1.0                      2.0   \n",
       "1                            2.0                      2.0   \n",
       "3                            3.0                      3.0   \n",
       "5                            2.0                      3.0   \n",
       "6                            2.0                      2.0   \n",
       "\n",
       "   Presence of cartilage inclusion  Diffuse infiltrate  \\\n",
       "0                                0                   1   \n",
       "1                                1                   0   \n",
       "3                                1                   1   \n",
       "5                                1                   1   \n",
       "6                                0                   1   \n",
       "\n",
       "   Peri-vascular focal infiltrate  Peri-cartilage  \n",
       "0                               0               0  \n",
       "1                               0               0  \n",
       "3                               1               1  \n",
       "5                               1               1  \n",
       "6                               1               0  \n",
       "\n",
       "[5 rows x 23 columns]"
      ]
     },
     "execution_count": 10,
     "metadata": {},
     "output_type": "execute_result"
    }
   ],
   "source": [
    "merged_data.head()"
   ]
  },
  {
   "cell_type": "code",
   "execution_count": 11,
   "metadata": {},
   "outputs": [],
   "source": [
    "Trauma = merged_data.loc[merged_data['Pathology'] == \"Trauma\"]\n",
    "Scope = merged_data.loc[merged_data['Pathology'] == \"Scope\"]"
   ]
  },
  {
   "cell_type": "code",
   "execution_count": 12,
   "metadata": {},
   "outputs": [],
   "source": [
    "OA = merged_data.loc[merged_data['Pathology'] == \"OA\"]\n",
    "merged_OA_data = OA.merge(radiology_data, on='Sample i.d.')"
   ]
  },
  {
   "cell_type": "code",
   "execution_count": 18,
   "metadata": {},
   "outputs": [
    {
     "data": {
      "text/plain": [
       "count    8.00000\n",
       "mean     0.03000\n",
       "std      0.01069\n",
       "min      0.02000\n",
       "25%      0.02000\n",
       "50%      0.03000\n",
       "75%      0.04000\n",
       "max      0.04000\n",
       "Name: Duration of symptoms (years), dtype: float64"
      ]
     },
     "execution_count": 18,
     "metadata": {},
     "output_type": "execute_result"
    }
   ],
   "source": [
    "Trauma['Duration of symptoms (years)'].median()\n",
    "Trauma['Duration of symptoms (years)'].describe()"
   ]
  },
  {
   "cell_type": "code",
   "execution_count": 27,
   "metadata": {},
   "outputs": [
    {
     "data": {
      "text/plain": [
       "count    6.000000\n",
       "mean     6.333333\n",
       "std      2.160247\n",
       "min      3.000000\n",
       "25%      5.250000\n",
       "50%      6.500000\n",
       "75%      7.750000\n",
       "max      9.000000\n",
       "Name: Synovitis grade, dtype: float64"
      ]
     },
     "execution_count": 27,
     "metadata": {},
     "output_type": "execute_result"
    }
   ],
   "source": [
    "Trauma['Synovitis grade'].median()\n",
    "Trauma['Synovitis grade'].describe()"
   ]
  },
  {
   "cell_type": "code",
   "execution_count": 19,
   "metadata": {},
   "outputs": [
    {
     "data": {
      "text/plain": [
       "count    9.000000\n",
       "mean     0.944444\n",
       "std      0.390868\n",
       "min      0.500000\n",
       "25%      0.500000\n",
       "50%      1.000000\n",
       "75%      1.000000\n",
       "max      1.500000\n",
       "Name: Duration of symptoms (years), dtype: float64"
      ]
     },
     "execution_count": 19,
     "metadata": {},
     "output_type": "execute_result"
    }
   ],
   "source": [
    "Scope['Duration of symptoms (years)'].median()\n",
    "Scope['Duration of symptoms (years)'].describe()"
   ]
  },
  {
   "cell_type": "code",
   "execution_count": 29,
   "metadata": {},
   "outputs": [
    {
     "data": {
      "text/plain": [
       "count    8.000000\n",
       "mean     5.750000\n",
       "std      0.886405\n",
       "min      5.000000\n",
       "25%      5.000000\n",
       "50%      5.500000\n",
       "75%      6.250000\n",
       "max      7.000000\n",
       "Name: Synovitis grade, dtype: float64"
      ]
     },
     "execution_count": 29,
     "metadata": {},
     "output_type": "execute_result"
    }
   ],
   "source": [
    "Scope['Synovitis grade'].median()\n",
    "Scope['Synovitis grade'].describe()"
   ]
  },
  {
   "cell_type": "code",
   "execution_count": 23,
   "metadata": {},
   "outputs": [
    {
     "data": {
      "text/html": [
       "<div>\n",
       "<style scoped>\n",
       "    .dataframe tbody tr th:only-of-type {\n",
       "        vertical-align: middle;\n",
       "    }\n",
       "\n",
       "    .dataframe tbody tr th {\n",
       "        vertical-align: top;\n",
       "    }\n",
       "\n",
       "    .dataframe thead th {\n",
       "        text-align: right;\n",
       "    }\n",
       "</style>\n",
       "<table border=\"1\" class=\"dataframe\">\n",
       "  <thead>\n",
       "    <tr style=\"text-align: right;\">\n",
       "      <th></th>\n",
       "      <th>Sample i.d.</th>\n",
       "      <th>Age (years)</th>\n",
       "      <th>BMI (kg/m2)</th>\n",
       "      <th>Duration of symptoms (years)</th>\n",
       "      <th>WCC x109/L</th>\n",
       "      <th>CRP (mg/l)</th>\n",
       "      <th>S100a8a9</th>\n",
       "      <th>ASA grade</th>\n",
       "      <th>CIRS</th>\n",
       "      <th>WOMAC score</th>\n",
       "      <th>...</th>\n",
       "      <th>SF-12 M</th>\n",
       "      <th>Pain Score</th>\n",
       "      <th>Synovitis grade</th>\n",
       "      <th>Synovial lining hyperplasia</th>\n",
       "      <th>Density of the resident cells</th>\n",
       "      <th>Inflammatory infiltrate</th>\n",
       "      <th>Presence of cartilage inclusion</th>\n",
       "      <th>Diffuse infiltrate</th>\n",
       "      <th>Peri-vascular focal infiltrate</th>\n",
       "      <th>Peri-cartilage</th>\n",
       "    </tr>\n",
       "  </thead>\n",
       "  <tbody>\n",
       "    <tr>\n",
       "      <th>count</th>\n",
       "      <td>31.000000</td>\n",
       "      <td>31.000000</td>\n",
       "      <td>31.000000</td>\n",
       "      <td>31.000000</td>\n",
       "      <td>31.000000</td>\n",
       "      <td>28.000000</td>\n",
       "      <td>27.000000</td>\n",
       "      <td>31.000000</td>\n",
       "      <td>31.000000</td>\n",
       "      <td>22.000000</td>\n",
       "      <td>...</td>\n",
       "      <td>26.000000</td>\n",
       "      <td>14.000000</td>\n",
       "      <td>28.000000</td>\n",
       "      <td>28.000000</td>\n",
       "      <td>28.000000</td>\n",
       "      <td>28.000000</td>\n",
       "      <td>31.000000</td>\n",
       "      <td>31.000000</td>\n",
       "      <td>31.000000</td>\n",
       "      <td>31.000000</td>\n",
       "    </tr>\n",
       "    <tr>\n",
       "      <th>mean</th>\n",
       "      <td>72.032258</td>\n",
       "      <td>46.596452</td>\n",
       "      <td>28.098387</td>\n",
       "      <td>3.443226</td>\n",
       "      <td>7.303226</td>\n",
       "      <td>5.964286</td>\n",
       "      <td>5.462222</td>\n",
       "      <td>1.548387</td>\n",
       "      <td>4.677419</td>\n",
       "      <td>45.590909</td>\n",
       "      <td>...</td>\n",
       "      <td>56.518077</td>\n",
       "      <td>7.428571</td>\n",
       "      <td>6.642857</td>\n",
       "      <td>2.142857</td>\n",
       "      <td>2.250000</td>\n",
       "      <td>2.250000</td>\n",
       "      <td>0.387097</td>\n",
       "      <td>0.870968</td>\n",
       "      <td>0.354839</td>\n",
       "      <td>0.193548</td>\n",
       "    </tr>\n",
       "    <tr>\n",
       "      <th>std</th>\n",
       "      <td>34.453334</td>\n",
       "      <td>17.968598</td>\n",
       "      <td>6.426448</td>\n",
       "      <td>4.668076</td>\n",
       "      <td>2.252626</td>\n",
       "      <td>12.348286</td>\n",
       "      <td>1.597080</td>\n",
       "      <td>0.505879</td>\n",
       "      <td>3.166355</td>\n",
       "      <td>32.436985</td>\n",
       "      <td>...</td>\n",
       "      <td>10.640229</td>\n",
       "      <td>2.173770</td>\n",
       "      <td>1.445665</td>\n",
       "      <td>0.755929</td>\n",
       "      <td>0.585314</td>\n",
       "      <td>0.585314</td>\n",
       "      <td>0.495138</td>\n",
       "      <td>0.340777</td>\n",
       "      <td>0.486373</td>\n",
       "      <td>0.401610</td>\n",
       "    </tr>\n",
       "    <tr>\n",
       "      <th>min</th>\n",
       "      <td>16.000000</td>\n",
       "      <td>19.340000</td>\n",
       "      <td>19.790000</td>\n",
       "      <td>0.020000</td>\n",
       "      <td>4.100000</td>\n",
       "      <td>1.000000</td>\n",
       "      <td>2.300000</td>\n",
       "      <td>1.000000</td>\n",
       "      <td>0.000000</td>\n",
       "      <td>1.000000</td>\n",
       "      <td>...</td>\n",
       "      <td>34.770000</td>\n",
       "      <td>4.000000</td>\n",
       "      <td>3.000000</td>\n",
       "      <td>1.000000</td>\n",
       "      <td>1.000000</td>\n",
       "      <td>1.000000</td>\n",
       "      <td>0.000000</td>\n",
       "      <td>0.000000</td>\n",
       "      <td>0.000000</td>\n",
       "      <td>0.000000</td>\n",
       "    </tr>\n",
       "    <tr>\n",
       "      <th>25%</th>\n",
       "      <td>51.000000</td>\n",
       "      <td>28.935000</td>\n",
       "      <td>24.110000</td>\n",
       "      <td>0.270000</td>\n",
       "      <td>6.100000</td>\n",
       "      <td>1.000000</td>\n",
       "      <td>4.660000</td>\n",
       "      <td>1.000000</td>\n",
       "      <td>2.000000</td>\n",
       "      <td>9.500000</td>\n",
       "      <td>...</td>\n",
       "      <td>46.710000</td>\n",
       "      <td>5.250000</td>\n",
       "      <td>5.750000</td>\n",
       "      <td>2.000000</td>\n",
       "      <td>2.000000</td>\n",
       "      <td>2.000000</td>\n",
       "      <td>0.000000</td>\n",
       "      <td>1.000000</td>\n",
       "      <td>0.000000</td>\n",
       "      <td>0.000000</td>\n",
       "    </tr>\n",
       "    <tr>\n",
       "      <th>50%</th>\n",
       "      <td>63.000000</td>\n",
       "      <td>53.630000</td>\n",
       "      <td>26.300000</td>\n",
       "      <td>1.000000</td>\n",
       "      <td>6.800000</td>\n",
       "      <td>1.000000</td>\n",
       "      <td>5.260000</td>\n",
       "      <td>2.000000</td>\n",
       "      <td>4.000000</td>\n",
       "      <td>56.500000</td>\n",
       "      <td>...</td>\n",
       "      <td>59.850000</td>\n",
       "      <td>7.500000</td>\n",
       "      <td>7.000000</td>\n",
       "      <td>2.000000</td>\n",
       "      <td>2.000000</td>\n",
       "      <td>2.000000</td>\n",
       "      <td>0.000000</td>\n",
       "      <td>1.000000</td>\n",
       "      <td>0.000000</td>\n",
       "      <td>0.000000</td>\n",
       "    </tr>\n",
       "    <tr>\n",
       "      <th>75%</th>\n",
       "      <td>89.500000</td>\n",
       "      <td>60.000000</td>\n",
       "      <td>31.575000</td>\n",
       "      <td>5.000000</td>\n",
       "      <td>7.450000</td>\n",
       "      <td>2.250000</td>\n",
       "      <td>5.950000</td>\n",
       "      <td>2.000000</td>\n",
       "      <td>6.500000</td>\n",
       "      <td>71.750000</td>\n",
       "      <td>...</td>\n",
       "      <td>65.755000</td>\n",
       "      <td>9.750000</td>\n",
       "      <td>8.000000</td>\n",
       "      <td>3.000000</td>\n",
       "      <td>3.000000</td>\n",
       "      <td>3.000000</td>\n",
       "      <td>1.000000</td>\n",
       "      <td>1.000000</td>\n",
       "      <td>1.000000</td>\n",
       "      <td>0.000000</td>\n",
       "    </tr>\n",
       "    <tr>\n",
       "      <th>max</th>\n",
       "      <td>169.000000</td>\n",
       "      <td>76.010000</td>\n",
       "      <td>48.430000</td>\n",
       "      <td>20.000000</td>\n",
       "      <td>14.400000</td>\n",
       "      <td>61.000000</td>\n",
       "      <td>10.170000</td>\n",
       "      <td>2.000000</td>\n",
       "      <td>12.000000</td>\n",
       "      <td>96.000000</td>\n",
       "      <td>...</td>\n",
       "      <td>68.660000</td>\n",
       "      <td>10.000000</td>\n",
       "      <td>9.000000</td>\n",
       "      <td>3.000000</td>\n",
       "      <td>3.000000</td>\n",
       "      <td>3.000000</td>\n",
       "      <td>1.000000</td>\n",
       "      <td>1.000000</td>\n",
       "      <td>1.000000</td>\n",
       "      <td>1.000000</td>\n",
       "    </tr>\n",
       "  </tbody>\n",
       "</table>\n",
       "<p>8 rows × 21 columns</p>\n",
       "</div>"
      ],
      "text/plain": [
       "       Sample i.d.  Age (years)  BMI (kg/m2)  Duration of symptoms (years)  \\\n",
       "count    31.000000    31.000000    31.000000                     31.000000   \n",
       "mean     72.032258    46.596452    28.098387                      3.443226   \n",
       "std      34.453334    17.968598     6.426448                      4.668076   \n",
       "min      16.000000    19.340000    19.790000                      0.020000   \n",
       "25%      51.000000    28.935000    24.110000                      0.270000   \n",
       "50%      63.000000    53.630000    26.300000                      1.000000   \n",
       "75%      89.500000    60.000000    31.575000                      5.000000   \n",
       "max     169.000000    76.010000    48.430000                     20.000000   \n",
       "\n",
       "       WCC x109/L  CRP (mg/l)   S100a8a9  ASA grade       CIRS  WOMAC score  \\\n",
       "count   31.000000   28.000000  27.000000  31.000000  31.000000    22.000000   \n",
       "mean     7.303226    5.964286   5.462222   1.548387   4.677419    45.590909   \n",
       "std      2.252626   12.348286   1.597080   0.505879   3.166355    32.436985   \n",
       "min      4.100000    1.000000   2.300000   1.000000   0.000000     1.000000   \n",
       "25%      6.100000    1.000000   4.660000   1.000000   2.000000     9.500000   \n",
       "50%      6.800000    1.000000   5.260000   2.000000   4.000000    56.500000   \n",
       "75%      7.450000    2.250000   5.950000   2.000000   6.500000    71.750000   \n",
       "max     14.400000   61.000000  10.170000   2.000000  12.000000    96.000000   \n",
       "\n",
       "       ...    SF-12 M  Pain Score  Synovitis grade  \\\n",
       "count  ...  26.000000   14.000000        28.000000   \n",
       "mean   ...  56.518077    7.428571         6.642857   \n",
       "std    ...  10.640229    2.173770         1.445665   \n",
       "min    ...  34.770000    4.000000         3.000000   \n",
       "25%    ...  46.710000    5.250000         5.750000   \n",
       "50%    ...  59.850000    7.500000         7.000000   \n",
       "75%    ...  65.755000    9.750000         8.000000   \n",
       "max    ...  68.660000   10.000000         9.000000   \n",
       "\n",
       "       Synovial lining hyperplasia  Density of the resident cells  \\\n",
       "count                    28.000000                      28.000000   \n",
       "mean                      2.142857                       2.250000   \n",
       "std                       0.755929                       0.585314   \n",
       "min                       1.000000                       1.000000   \n",
       "25%                       2.000000                       2.000000   \n",
       "50%                       2.000000                       2.000000   \n",
       "75%                       3.000000                       3.000000   \n",
       "max                       3.000000                       3.000000   \n",
       "\n",
       "       Inflammatory infiltrate  Presence of cartilage inclusion  \\\n",
       "count                28.000000                        31.000000   \n",
       "mean                  2.250000                         0.387097   \n",
       "std                   0.585314                         0.495138   \n",
       "min                   1.000000                         0.000000   \n",
       "25%                   2.000000                         0.000000   \n",
       "50%                   2.000000                         0.000000   \n",
       "75%                   3.000000                         1.000000   \n",
       "max                   3.000000                         1.000000   \n",
       "\n",
       "       Diffuse infiltrate  Peri-vascular focal infiltrate  Peri-cartilage  \n",
       "count           31.000000                       31.000000       31.000000  \n",
       "mean             0.870968                        0.354839        0.193548  \n",
       "std              0.340777                        0.486373        0.401610  \n",
       "min              0.000000                        0.000000        0.000000  \n",
       "25%              1.000000                        0.000000        0.000000  \n",
       "50%              1.000000                        0.000000        0.000000  \n",
       "75%              1.000000                        1.000000        0.000000  \n",
       "max              1.000000                        1.000000        1.000000  \n",
       "\n",
       "[8 rows x 21 columns]"
      ]
     },
     "execution_count": 23,
     "metadata": {},
     "output_type": "execute_result"
    }
   ],
   "source": [
    "merged_data.describe()"
   ]
  },
  {
   "cell_type": "code",
   "execution_count": null,
   "metadata": {},
   "outputs": [
    {
     "data": {
      "text/plain": [
       "7.0"
      ]
     },
     "execution_count": 31,
     "metadata": {},
     "output_type": "execute_result"
    },
    {
     "name": "stderr",
     "output_type": "stream",
     "text": [
      "Retrying (Retry(total=237, connect=237, read=240, redirect=240, status=240)) after connection broken by 'NewConnectionError('<urllib3.connection.HTTPSConnection object at 0x000001A99BB9A5E0>: Failed to establish a new connection: [Errno 11001] getaddrinfo failed')': /v2.23/tasks.ping\n"
     ]
    },
    {
     "name": "stdout",
     "output_type": "stream",
     "text": [
      "2024-05-23 23:20:24,391 - clearml.Task - WARNING - ### TASK STOPPED - USER ABORTED - STATUS CHANGED ###\n"
     ]
    },
    {
     "ename": "",
     "evalue": "",
     "output_type": "error",
     "traceback": [
      "\u001b[1;31mThe Kernel crashed while executing code in the current cell or a previous cell. \n",
      "\u001b[1;31mPlease review the code in the cell(s) to identify a possible cause of the failure. \n",
      "\u001b[1;31mClick <a href='https://aka.ms/vscodeJupyterKernelCrash'>here</a> for more info. \n",
      "\u001b[1;31mView Jupyter <a href='command:jupyter.viewOutput'>log</a> for further details."
     ]
    }
   ],
   "source": [
    "merged_data['Synovitis grade'].median()"
   ]
  },
  {
   "cell_type": "code",
   "execution_count": 20,
   "metadata": {},
   "outputs": [
    {
     "data": {
      "text/plain": [
       "count    14.000000\n",
       "mean      7.000000\n",
       "std       5.007686\n",
       "min       1.000000\n",
       "25%       3.000000\n",
       "50%       6.000000\n",
       "75%      10.000000\n",
       "max      20.000000\n",
       "Name: Duration of symptoms (years), dtype: float64"
      ]
     },
     "execution_count": 20,
     "metadata": {},
     "output_type": "execute_result"
    }
   ],
   "source": [
    "OA['Duration of symptoms (years)'].median()\n",
    "OA['Duration of symptoms (years)'].describe()"
   ]
  },
  {
   "cell_type": "code",
   "execution_count": 25,
   "metadata": {},
   "outputs": [
    {
     "data": {
      "text/plain": [
       "count    14.000000\n",
       "mean      7.285714\n",
       "std       1.069045\n",
       "min       5.000000\n",
       "25%       7.000000\n",
       "50%       7.500000\n",
       "75%       8.000000\n",
       "max       9.000000\n",
       "Name: Synovitis grade, dtype: float64"
      ]
     },
     "execution_count": 25,
     "metadata": {},
     "output_type": "execute_result"
    }
   ],
   "source": [
    "OA['Synovitis grade'].median()\n",
    "OA['Synovitis grade'].describe()"
   ]
  },
  {
   "cell_type": "code",
   "execution_count": 13,
   "metadata": {},
   "outputs": [
    {
     "data": {
      "text/html": [
       "<div>\n",
       "<style scoped>\n",
       "    .dataframe tbody tr th:only-of-type {\n",
       "        vertical-align: middle;\n",
       "    }\n",
       "\n",
       "    .dataframe tbody tr th {\n",
       "        vertical-align: top;\n",
       "    }\n",
       "\n",
       "    .dataframe thead th {\n",
       "        text-align: right;\n",
       "    }\n",
       "</style>\n",
       "<table border=\"1\" class=\"dataframe\">\n",
       "  <thead>\n",
       "    <tr style=\"text-align: right;\">\n",
       "      <th></th>\n",
       "      <th>Sample i.d.</th>\n",
       "      <th>Pathology</th>\n",
       "      <th>Gender</th>\n",
       "      <th>Age (years)</th>\n",
       "      <th>BMI (kg/m2)</th>\n",
       "      <th>Duration of symptoms (years)</th>\n",
       "      <th>WCC x109/L</th>\n",
       "      <th>CRP (mg/l)</th>\n",
       "      <th>S100a8a9</th>\n",
       "      <th>ASA grade</th>\n",
       "      <th>...</th>\n",
       "      <th>Location Osteophytes</th>\n",
       "      <th>Grade Osteophytes</th>\n",
       "      <th>Location Joint Space Loss</th>\n",
       "      <th>Grade Joint Space Loss</th>\n",
       "      <th>Subchondral Sclerosis Location</th>\n",
       "      <th>Subchondral SclerosisGrade</th>\n",
       "      <th>Deformity Description</th>\n",
       "      <th>DeformityGrade</th>\n",
       "      <th>K-L Grade</th>\n",
       "      <th>Intraoperative observation notes</th>\n",
       "    </tr>\n",
       "  </thead>\n",
       "  <tbody>\n",
       "    <tr>\n",
       "      <th>0</th>\n",
       "      <td>16</td>\n",
       "      <td>OA</td>\n",
       "      <td>M</td>\n",
       "      <td>72.06</td>\n",
       "      <td>35.93</td>\n",
       "      <td>10.0</td>\n",
       "      <td>8.4</td>\n",
       "      <td>1.0</td>\n",
       "      <td>6.05</td>\n",
       "      <td>2</td>\n",
       "      <td>...</td>\n",
       "      <td>Tibia, femur &amp; patella but less on tibia</td>\n",
       "      <td>2</td>\n",
       "      <td>Absent medial side</td>\n",
       "      <td>2</td>\n",
       "      <td>Minimal</td>\n",
       "      <td>1</td>\n",
       "      <td>Moderate varus</td>\n",
       "      <td>2</td>\n",
       "      <td>4</td>\n",
       "      <td>Femur: Grade IV both condyles</td>\n",
       "    </tr>\n",
       "    <tr>\n",
       "      <th>1</th>\n",
       "      <td>29</td>\n",
       "      <td>OA</td>\n",
       "      <td>F</td>\n",
       "      <td>60.05</td>\n",
       "      <td>28.59</td>\n",
       "      <td>9.0</td>\n",
       "      <td>10.3</td>\n",
       "      <td>1.0</td>\n",
       "      <td>5.26</td>\n",
       "      <td>1</td>\n",
       "      <td>...</td>\n",
       "      <td>Medial tibia; superior &amp; inferior patella; lat...</td>\n",
       "      <td>1</td>\n",
       "      <td>Absent on medial side</td>\n",
       "      <td>2</td>\n",
       "      <td>Medial tibial plateau</td>\n",
       "      <td>2</td>\n",
       "      <td>Moderate varus</td>\n",
       "      <td>2</td>\n",
       "      <td>3</td>\n",
       "      <td>Grade IV changes medially, Grade III changes p...</td>\n",
       "    </tr>\n",
       "    <tr>\n",
       "      <th>2</th>\n",
       "      <td>35</td>\n",
       "      <td>OA</td>\n",
       "      <td>M</td>\n",
       "      <td>53.63</td>\n",
       "      <td>32.55</td>\n",
       "      <td>3.0</td>\n",
       "      <td>7.2</td>\n",
       "      <td>1.0</td>\n",
       "      <td>5.42</td>\n",
       "      <td>2</td>\n",
       "      <td>...</td>\n",
       "      <td>Mild femur &amp; patella</td>\n",
       "      <td>1</td>\n",
       "      <td>Markedly reduced on medial side</td>\n",
       "      <td>2</td>\n",
       "      <td>No</td>\n",
       "      <td>0</td>\n",
       "      <td>Mild varus</td>\n",
       "      <td>1</td>\n",
       "      <td>3</td>\n",
       "      <td>Grade IV changes medially Grade II changes pat...</td>\n",
       "    </tr>\n",
       "    <tr>\n",
       "      <th>3</th>\n",
       "      <td>43</td>\n",
       "      <td>OA</td>\n",
       "      <td>F</td>\n",
       "      <td>63.67</td>\n",
       "      <td>29.02</td>\n",
       "      <td>5.0</td>\n",
       "      <td>7.2</td>\n",
       "      <td>1.0</td>\n",
       "      <td>6.64</td>\n",
       "      <td>2</td>\n",
       "      <td>...</td>\n",
       "      <td>Medial femur, tibia, patella</td>\n",
       "      <td>1</td>\n",
       "      <td>Decreased on medial side</td>\n",
       "      <td>1</td>\n",
       "      <td>No</td>\n",
       "      <td>0</td>\n",
       "      <td>Mild varus</td>\n",
       "      <td>1</td>\n",
       "      <td>2</td>\n",
       "      <td>Severe medial OA</td>\n",
       "    </tr>\n",
       "    <tr>\n",
       "      <th>4</th>\n",
       "      <td>44</td>\n",
       "      <td>OA</td>\n",
       "      <td>M</td>\n",
       "      <td>71.73</td>\n",
       "      <td>32.70</td>\n",
       "      <td>5.0</td>\n",
       "      <td>6.1</td>\n",
       "      <td>1.0</td>\n",
       "      <td>5.07</td>\n",
       "      <td>2</td>\n",
       "      <td>...</td>\n",
       "      <td>Femur, tibia, patella</td>\n",
       "      <td>2</td>\n",
       "      <td>Virtually complete loss on medial compartment</td>\n",
       "      <td>2</td>\n",
       "      <td>Medial tibial plateau</td>\n",
       "      <td>1</td>\n",
       "      <td>Mild varus</td>\n",
       "      <td>1</td>\n",
       "      <td>4</td>\n",
       "      <td>Grade IV changes laterally Grade IV changes pa...</td>\n",
       "    </tr>\n",
       "  </tbody>\n",
       "</table>\n",
       "<p>5 rows × 33 columns</p>\n",
       "</div>"
      ],
      "text/plain": [
       "   Sample i.d. Pathology Gender  Age (years)  BMI (kg/m2)  \\\n",
       "0           16        OA      M        72.06        35.93   \n",
       "1           29        OA      F        60.05        28.59   \n",
       "2           35        OA      M        53.63        32.55   \n",
       "3           43        OA      F        63.67        29.02   \n",
       "4           44        OA      M        71.73        32.70   \n",
       "\n",
       "   Duration of symptoms (years)  WCC x109/L  CRP (mg/l)  S100a8a9  ASA grade  \\\n",
       "0                          10.0         8.4         1.0      6.05          2   \n",
       "1                           9.0        10.3         1.0      5.26          1   \n",
       "2                           3.0         7.2         1.0      5.42          2   \n",
       "3                           5.0         7.2         1.0      6.64          2   \n",
       "4                           5.0         6.1         1.0      5.07          2   \n",
       "\n",
       "   ...                               Location Osteophytes  Grade Osteophytes  \\\n",
       "0  ...           Tibia, femur & patella but less on tibia                  2   \n",
       "1  ...  Medial tibia; superior & inferior patella; lat...                  1   \n",
       "2  ...                               Mild femur & patella                  1   \n",
       "3  ...                       Medial femur, tibia, patella                  1   \n",
       "4  ...                              Femur, tibia, patella                  2   \n",
       "\n",
       "                       Location Joint Space Loss  Grade Joint Space Loss  \\\n",
       "0                             Absent medial side                       2   \n",
       "1                          Absent on medial side                       2   \n",
       "2                Markedly reduced on medial side                       2   \n",
       "3                       Decreased on medial side                       1   \n",
       "4  Virtually complete loss on medial compartment                       2   \n",
       "\n",
       "   Subchondral Sclerosis Location  Subchondral SclerosisGrade  \\\n",
       "0                         Minimal                           1   \n",
       "1           Medial tibial plateau                           2   \n",
       "2                              No                           0   \n",
       "3                              No                           0   \n",
       "4           Medial tibial plateau                           1   \n",
       "\n",
       "   Deformity Description  DeformityGrade  K-L Grade  \\\n",
       "0         Moderate varus               2          4   \n",
       "1         Moderate varus               2          3   \n",
       "2             Mild varus               1          3   \n",
       "3             Mild varus               1          2   \n",
       "4             Mild varus               1          4   \n",
       "\n",
       "                    Intraoperative observation notes  \n",
       "0                      Femur: Grade IV both condyles  \n",
       "1  Grade IV changes medially, Grade III changes p...  \n",
       "2  Grade IV changes medially Grade II changes pat...  \n",
       "3                                   Severe medial OA  \n",
       "4  Grade IV changes laterally Grade IV changes pa...  \n",
       "\n",
       "[5 rows x 33 columns]"
      ]
     },
     "execution_count": 13,
     "metadata": {},
     "output_type": "execute_result"
    }
   ],
   "source": [
    "merged_OA_data.head()"
   ]
  },
  {
   "cell_type": "code",
   "execution_count": 103,
   "metadata": {},
   "outputs": [
    {
     "name": "stderr",
     "output_type": "stream",
     "text": [
      "C:\\Users\\a.bromberg\\AppData\\Local\\Temp\\ipykernel_1156\\4170048636.py:2: FutureWarning:\n",
      "\n",
      "The default value of numeric_only in DataFrame.corr is deprecated. In a future version, it will default to False. Select only valid columns or specify the value of numeric_only to silence this warning.\n",
      "\n"
     ]
    }
   ],
   "source": [
    "columns_to_drop = ['Sample i.d.', 'WCC x109/L', 'S100a8a9', 'CRP (mg/l)', 'BMI (kg/m2)']\n",
    "merged_OA_data_corr = merged_OA_data.drop(columns = columns_to_drop).corr('spearman')"
   ]
  },
  {
   "cell_type": "code",
   "execution_count": 104,
   "metadata": {},
   "outputs": [
    {
     "data": {
      "text/plain": [
       "<AxesSubplot: >"
      ]
     },
     "execution_count": 104,
     "metadata": {},
     "output_type": "execute_result"
    },
    {
     "data": {
      "image/png": "[encoded data removed]",
      "text/plain": [
       "<Figure size 640x480 with 2 Axes>"
      ]
     },
     "metadata": {},
     "output_type": "display_data"
    }
   ],
   "source": [
    "matrix = np.tril(merged_OA_data_corr)\n",
    "sns.heatmap(merged_OA_data_corr, mask=matrix)"
   ]
  },
  {
   "cell_type": "code",
   "execution_count": 106,
   "metadata": {},
   "outputs": [],
   "source": [
    "merged_OA_data_corr.round(2).to_excel('spearman_corr.xlsx') "
   ]
  },
  {
   "cell_type": "code",
   "execution_count": 97,
   "metadata": {},
   "outputs": [],
   "source": [
    "# так как данные ранговые\n",
    "def spearman(a, b):\n",
    "      r_s_stats, p_value_stats = spearmanr(a, b)\n",
    "      print(\"Коэффициент корреляции Спирмана:\", \n",
    "            round(r_s_stats, 4))\n",
    "      print(\"p-value:\", \n",
    "            round(p_value_stats, 4))"
   ]
  },
  {
   "cell_type": "code",
   "execution_count": 77,
   "metadata": {},
   "outputs": [],
   "source": [
    "def pearson(a, b):\n",
    "      r_s_stats, p_value_stats = pearsonr(a, b)\n",
    "      print(\"Коэффициент корреляции Пирсона:\", \n",
    "            round(r_s_stats, 4))\n",
    "      print(\"p-value:\", \n",
    "            round(p_value_stats, 4))"
   ]
  },
  {
   "cell_type": "code",
   "execution_count": 107,
   "metadata": {},
   "outputs": [
    {
     "name": "stdout",
     "output_type": "stream",
     "text": [
      "Коэффициент корреляции Спирмана: -0.6125\n",
      "p-value: 0.0199\n"
     ]
    }
   ],
   "source": [
    "a = merged_OA_data['Synovitis grade']\n",
    "b = merged_OA_data['DeformityGrade']\n",
    "spearman(a,b)"
   ]
  },
  {
   "cell_type": "code",
   "execution_count": 108,
   "metadata": {},
   "outputs": [
    {
     "name": "stdout",
     "output_type": "stream",
     "text": [
      "Коэффициент корреляции Спирмана: 0.5477\n",
      "p-value: 0.0426\n"
     ]
    }
   ],
   "source": [
    "a = merged_OA_data['Synovial lining hyperplasia']\n",
    "b = merged_OA_data['Presence of cartilage inclusion']\n",
    "spearman(a,b)"
   ]
  },
  {
   "cell_type": "code",
   "execution_count": 81,
   "metadata": {},
   "outputs": [
    {
     "name": "stdout",
     "output_type": "stream",
     "text": [
      "Коэффициент корреляции Пирсона: -0.6928\n",
      "p-value: 0.006\n"
     ]
    }
   ],
   "source": [
    "a = merged_OA_data['Synovial lining hyperplasia']\n",
    "b = merged_OA_data['BMI (kg/m2)']\n",
    "pearson(a,b)"
   ]
  },
  {
   "cell_type": "code",
   "execution_count": 109,
   "metadata": {},
   "outputs": [
    {
     "name": "stdout",
     "output_type": "stream",
     "text": [
      "Коэффициент корреляции Спирмана: 0.5404\n",
      "p-value: 0.0461\n"
     ]
    }
   ],
   "source": [
    "a = merged_OA_data['Density of the resident cells']\n",
    "b = merged_OA_data['WOMAC score']\n",
    "spearman(a,b)"
   ]
  },
  {
   "cell_type": "code",
   "execution_count": 110,
   "metadata": {},
   "outputs": [
    {
     "name": "stdout",
     "output_type": "stream",
     "text": [
      "Коэффициент корреляции Спирмана: 0.479\n",
      "p-value: 0.0831\n"
     ]
    }
   ],
   "source": [
    "a = merged_OA_data['Density of the resident cells']\n",
    "b = merged_OA_data['Presence of cartilage inclusion']\n",
    "spearman(a,b)"
   ]
  },
  {
   "cell_type": "code",
   "execution_count": 111,
   "metadata": {},
   "outputs": [
    {
     "name": "stdout",
     "output_type": "stream",
     "text": [
      "Коэффициент корреляции Спирмана: 0.463\n",
      "p-value: 0.0955\n"
     ]
    }
   ],
   "source": [
    "a = merged_OA_data['Density of the resident cells']\n",
    "b = merged_OA_data['Peri-vascular focal infiltrate']\n",
    "spearman(a,b)"
   ]
  },
  {
   "cell_type": "code",
   "execution_count": 112,
   "metadata": {},
   "outputs": [
    {
     "name": "stdout",
     "output_type": "stream",
     "text": [
      "Коэффициент корреляции Спирмана: -0.4955\n",
      "p-value: 0.0716\n"
     ]
    }
   ],
   "source": [
    "a = merged_OA_data['Density of the resident cells']\n",
    "b = merged_OA_data['K-L Grade']\n",
    "spearman(a,b)"
   ]
  },
  {
   "cell_type": "code",
   "execution_count": 115,
   "metadata": {},
   "outputs": [
    {
     "name": "stdout",
     "output_type": "stream",
     "text": [
      "Коэффициент корреляции Спирмана: 0.5222\n",
      "p-value: 0.0554\n"
     ]
    }
   ],
   "source": [
    "a = merged_OA_data['Inflammatory infiltrate']\n",
    "b = merged_OA_data['Peri-vascular focal infiltrate']\n",
    "spearman(a,b)"
   ]
  },
  {
   "cell_type": "code",
   "execution_count": 116,
   "metadata": {},
   "outputs": [
    {
     "name": "stdout",
     "output_type": "stream",
     "text": [
      "Коэффициент корреляции Спирмана: -0.5943\n",
      "p-value: 0.025\n"
     ]
    }
   ],
   "source": [
    "a = merged_OA_data['Inflammatory infiltrate']\n",
    "b = merged_OA_data['Grade Joint Space Loss']\n",
    "spearman(a,b)"
   ]
  },
  {
   "cell_type": "code",
   "execution_count": 117,
   "metadata": {},
   "outputs": [
    {
     "name": "stdout",
     "output_type": "stream",
     "text": [
      "Коэффициент корреляции Спирмана: -0.5851\n",
      "p-value: 0.028\n"
     ]
    }
   ],
   "source": [
    "a = merged_OA_data['Inflammatory infiltrate']\n",
    "b = merged_OA_data['Subchondral SclerosisGrade']\n",
    "spearman(a,b)"
   ]
  },
  {
   "cell_type": "code",
   "execution_count": 118,
   "metadata": {},
   "outputs": [
    {
     "name": "stdout",
     "output_type": "stream",
     "text": [
      "Коэффициент корреляции Спирмана: -0.6258\n",
      "p-value: 0.0167\n"
     ]
    }
   ],
   "source": [
    "a = merged_OA_data['Inflammatory infiltrate']\n",
    "b = merged_OA_data['DeformityGrade']\n",
    "spearman(a,b)"
   ]
  },
  {
   "cell_type": "code",
   "execution_count": 126,
   "metadata": {},
   "outputs": [
    {
     "name": "stdout",
     "output_type": "stream",
     "text": [
      "Коэффициент корреляции Спирмана: 0.5075\n",
      "p-value: 0.064\n"
     ]
    }
   ],
   "source": [
    "b = merged_OA_data['Presence of cartilage inclusion']\n",
    "a = merged_OA_data['WOMAC score']\n",
    "spearman(a,b)"
   ]
  },
  {
   "cell_type": "code",
   "execution_count": 128,
   "metadata": {},
   "outputs": [
    {
     "name": "stdout",
     "output_type": "stream",
     "text": [
      "Коэффициент корреляции Спирмана: -0.5693\n",
      "p-value: 0.0336\n"
     ]
    }
   ],
   "source": [
    "b = merged_OA_data['Presence of cartilage inclusion']\n",
    "a = merged_OA_data['K-L Grade']\n",
    "spearman(a,b)"
   ]
  },
  {
   "cell_type": "code",
   "execution_count": 129,
   "metadata": {},
   "outputs": [
    {
     "name": "stdout",
     "output_type": "stream",
     "text": [
      "Коэффициент корреляции Спирмана: 0.5311\n",
      "p-value: 0.0507\n"
     ]
    }
   ],
   "source": [
    "b = merged_OA_data['Diffuse infiltrate']\n",
    "a = merged_OA_data['Peri-vascular focal infiltrate']\n",
    "spearman(a,b)"
   ]
  },
  {
   "cell_type": "code",
   "execution_count": 132,
   "metadata": {},
   "outputs": [
    {
     "name": "stdout",
     "output_type": "stream",
     "text": [
      "Коэффициент корреляции Спирмана: -0.5092\n",
      "p-value: 0.0629\n"
     ]
    }
   ],
   "source": [
    "a = merged_OA_data['Diffuse infiltrate']\n",
    "b = merged_OA_data['Subchondral SclerosisGrade']\n",
    "spearman(a,b)"
   ]
  },
  {
   "cell_type": "code",
   "execution_count": 133,
   "metadata": {},
   "outputs": [
    {
     "name": "stdout",
     "output_type": "stream",
     "text": [
      "Коэффициент корреляции Спирмана: 0.5311\n",
      "p-value: 0.0507\n"
     ]
    }
   ],
   "source": [
    "a = merged_OA_data['Peri-vascular focal infiltrate']\n",
    "b = merged_OA_data['ASA grade']\n",
    "spearman(a,b)"
   ]
  },
  {
   "cell_type": "code",
   "execution_count": 134,
   "metadata": {},
   "outputs": [
    {
     "name": "stdout",
     "output_type": "stream",
     "text": [
      "Коэффициент корреляции Спирмана: -0.7353\n",
      "p-value: 0.0027\n"
     ]
    }
   ],
   "source": [
    "a = merged_OA_data['Peri-vascular focal infiltrate']\n",
    "b = merged_OA_data['DeformityGrade']\n",
    "spearman(a,b)\n"
   ]
  },
  {
   "cell_type": "code",
   "execution_count": 136,
   "metadata": {},
   "outputs": [
    {
     "name": "stdout",
     "output_type": "stream",
     "text": [
      "Коэффициент корреляции Спирмана: -0.5729\n",
      "p-value: 0.0322\n"
     ]
    }
   ],
   "source": [
    "a = merged_OA_data['Peri-cartilage']\n",
    "b = merged_OA_data['SF-12 Ph']\n",
    "spearman(a,b)"
   ]
  },
  {
   "cell_type": "code",
   "execution_count": 119,
   "metadata": {},
   "outputs": [],
   "source": [
    "import statsmodels.api as sm\n",
    "from statsmodels.formula.api import ols\n",
    "cols_for_ANOVA = ['Pathology', 'Synovitis grade', 'Synovial lining hyperplasia', 'Density of the resident cells', 'Inflammatory infiltrate', 'Presence of cartilage inclusion', 'Diffuse infiltrate', 'Peri-vascular focal infiltrate', 'Peri-cartilage']\n",
    "clear_data = merged_data[cols_for_ANOVA].dropna()"
   ]
  },
  {
   "cell_type": "code",
   "execution_count": 120,
   "metadata": {},
   "outputs": [
    {
     "data": {
      "text/plain": [
       "(28, 9)"
      ]
     },
     "execution_count": 120,
     "metadata": {},
     "output_type": "execute_result"
    }
   ],
   "source": [
    "clear_data.shape"
   ]
  },
  {
   "cell_type": "code",
   "execution_count": 51,
   "metadata": {},
   "outputs": [
    {
     "data": {
      "text/plain": [
       "<AxesSubplot: xlabel='Pathology', ylabel='count'>"
      ]
     },
     "execution_count": 51,
     "metadata": {},
     "output_type": "execute_result"
    },
    {
     "data": {
      "image/png": "[encoded data removed]",
      "text/plain": [
       "<Figure size 1500x400 with 1 Axes>"
      ]
     },
     "metadata": {},
     "output_type": "display_data"
    }
   ],
   "source": [
    "fig, ax = plt.subplots(figsize = (15, 4))\n",
    "sns.countplot(data=clear_data, x='Pathology')"
   ]
  },
  {
   "cell_type": "code",
   "execution_count": 121,
   "metadata": {},
   "outputs": [],
   "source": [
    "clear_data = clear_data.rename(columns = {'Synovitis grade':'Synovitis_grade', 'Synovial lining hyperplasia': 'Synovial_lining_hyperplasia', 'Density of the resident cells': 'Density_of_the_resident_cells', 'Inflammatory infiltrate': 'Inflammatory_infiltrate', 'Presence of cartilage inclusion': 'Presence_of_cartilage_inclusion', 'Diffuse infiltrate': 'Diffuse_infiltrate', 'Peri-vascular focal infiltrate':'Peri_vascular_focal_infiltrate', 'Peri-cartilage':'Peri_cartilage'})"
   ]
  },
  {
   "cell_type": "code",
   "execution_count": 122,
   "metadata": {},
   "outputs": [
    {
     "data": {
      "text/plain": [
       "ShapiroResult(statistic=0.8051367402076721, pvalue=0.00013167067663744092)"
      ]
     },
     "execution_count": 122,
     "metadata": {},
     "output_type": "execute_result"
    }
   ],
   "source": [
    "stats.shapiro(clear_data['Synovial_lining_hyperplasia'])"
   ]
  },
  {
   "cell_type": "code",
   "execution_count": 123,
   "metadata": {},
   "outputs": [
    {
     "name": "stdout",
     "output_type": "stream",
     "text": [
      "ShapiroResult(statistic=0.7475948333740234, pvalue=1.4471659596893005e-05)\n"
     ]
    }
   ],
   "source": [
    "print(stats.shapiro(clear_data['Density_of_the_resident_cells']))"
   ]
  },
  {
   "cell_type": "code",
   "execution_count": 55,
   "metadata": {},
   "outputs": [
    {
     "data": {
      "text/plain": [
       "0.0"
      ]
     },
     "execution_count": 55,
     "metadata": {},
     "output_type": "execute_result"
    }
   ],
   "source": [
    "round(1.4471659596893005e-05, 4)"
   ]
  },
  {
   "cell_type": "code",
   "execution_count": 124,
   "metadata": {},
   "outputs": [
    {
     "name": "stdout",
     "output_type": "stream",
     "text": [
      "ShapiroResult(statistic=0.7475948333740234, pvalue=1.4471659596893005e-05)\n"
     ]
    }
   ],
   "source": [
    "print(stats.shapiro(clear_data['Inflammatory_infiltrate']))"
   ]
  },
  {
   "cell_type": "code",
   "execution_count": 125,
   "metadata": {},
   "outputs": [
    {
     "data": {
      "text/plain": [
       "0.0"
      ]
     },
     "execution_count": 125,
     "metadata": {},
     "output_type": "execute_result"
    }
   ],
   "source": [
    "round(1.4471659596893005e-05, 4)"
   ]
  },
  {
   "cell_type": "code",
   "execution_count": 144,
   "metadata": {},
   "outputs": [
    {
     "data": {
      "text/plain": [
       "Pathology                           object\n",
       "Synovitis_grade                    float64\n",
       "Synovial_lining_hyperplasia        float64\n",
       "Density_of_the_resident_cells      float64\n",
       "Inflammatory_infiltrate            float64\n",
       "Presence_of_cartilage_inclusion      int64\n",
       "Diffuse_infiltrate                   int64\n",
       "Peri_vascular_focal_infiltrate       int64\n",
       "Peri_cartilage                       int64\n",
       "dtype: object"
      ]
     },
     "execution_count": 144,
     "metadata": {},
     "output_type": "execute_result"
    }
   ],
   "source": [
    "clear_data.dtypes"
   ]
  },
  {
   "cell_type": "markdown",
   "metadata": {},
   "source": [
    "Согласно документации, tukeyhsd реализует тест для несбалансированных классов"
   ]
  },
  {
   "cell_type": "code",
   "execution_count": 147,
   "metadata": {},
   "outputs": [],
   "source": [
    "S_hyperplasia_model = ols('Synovial_lining_hyperplasia ~ C(Pathology)', clear_data).fit()"
   ]
  },
  {
   "cell_type": "code",
   "execution_count": 148,
   "metadata": {},
   "outputs": [
    {
     "name": "stdout",
     "output_type": "stream",
     "text": [
      "Normality test p-value 0.036\n"
     ]
    }
   ],
   "source": [
    "print(\"Normality test p-value %.3f\" % sm.stats.stattools.jarque_bera(S_hyperplasia_model.resid)[2])"
   ]
  },
  {
   "cell_type": "code",
   "execution_count": 149,
   "metadata": {},
   "outputs": [
    {
     "name": "stdout",
     "output_type": "stream",
     "text": [
      "              sum_sq    df     F  PR(>F)\n",
      "C(Pathology)    7.01   2.0  10.4     0.0\n",
      "Residual        8.42  25.0   NaN     NaN\n"
     ]
    }
   ],
   "source": [
    "print(sm.stats.anova_lm(S_hyperplasia_model  , typ=2).round(2))"
   ]
  },
  {
   "cell_type": "code",
   "execution_count": 111,
   "metadata": {},
   "outputs": [
    {
     "name": "stdout",
     "output_type": "stream",
     "text": [
      "Result for the sinovial hyperplasia: Multiple Comparison of Means - Tukey HSD, FWER=0.05 \n",
      "====================================================\n",
      "group1 group2 meandiff p-adj   lower   upper  reject\n",
      "----------------------------------------------------\n",
      "    OA  Scope  -1.0179 0.0016 -1.6586 -0.3771   True\n",
      "    OA Trauma  -0.9762 0.0055 -1.6817 -0.2707   True\n",
      " Scope Trauma   0.0417 0.9903 -0.7391  0.8225  False\n",
      "----------------------------------------------------\n"
     ]
    }
   ],
   "source": [
    "# comparing the sinovial hyperplasia between each pathology, using 95% confidence interval  \n",
    "multiComp = MultiComparison(clear_data['Synovial_lining_hyperplasia'], clear_data['Pathology']) \n",
    "tukeyres = multiComp.tukeyhsd(alpha = 0.05) \n",
    " \n",
    "print('Result for the sinovial hyperplasia:', tukeyres) "
   ]
  },
  {
   "cell_type": "code",
   "execution_count": 154,
   "metadata": {},
   "outputs": [
    {
     "name": "stdout",
     "output_type": "stream",
     "text": [
      "              sum_sq    df     F  PR(>F)\n",
      "C(Pathology)    0.54   2.0  0.77    0.47\n",
      "Residual        8.71  25.0   NaN     NaN\n"
     ]
    },
    {
     "name": "stderr",
     "output_type": "stream",
     "text": [
      "Retrying (Retry(total=237, connect=237, read=240, redirect=240, status=240)) after connection broken by 'NewConnectionError('<urllib3.connection.HTTPSConnection object at 0x000002877B9A8250>: Failed to establish a new connection: [Errno 11001] getaddrinfo failed')': /v2.23/tasks.get_all\n",
      "Retrying (Retry(total=237, connect=237, read=240, redirect=240, status=240)) after connection broken by 'NewConnectionError('<urllib3.connection.HTTPSConnection object at 0x000002877B992C70>: Failed to establish a new connection: [Errno 11001] getaddrinfo failed')': /v2.23/events.add_batch\n"
     ]
    },
    {
     "name": "stdout",
     "output_type": "stream",
     "text": [
      "2024-05-13 06:34:13,809 - clearml.Task - WARNING - ### TASK STOPPED - USER ABORTED - STATUS CHANGED ###\n"
     ]
    },
    {
     "ename": "",
     "evalue": "",
     "output_type": "error",
     "traceback": [
      "\u001b[1;31mThe Kernel crashed while executing code in the current cell or a previous cell. \n",
      "\u001b[1;31mPlease review the code in the cell(s) to identify a possible cause of the failure. \n",
      "\u001b[1;31mClick <a href='https://aka.ms/vscodeJupyterKernelCrash'>here</a> for more info. \n",
      "\u001b[1;31mView Jupyter <a href='command:jupyter.viewOutput'>log</a> for further details."
     ]
    }
   ],
   "source": [
    "Density_of_the_resident_cells_model = ols('Density_of_the_resident_cells ~ C(Pathology)', clear_data).fit()\n",
    "print(sm.stats.anova_lm(Density_of_the_resident_cells_model, typ=2).round(2))"
   ]
  },
  {
   "cell_type": "code",
   "execution_count": 112,
   "metadata": {},
   "outputs": [
    {
     "name": "stdout",
     "output_type": "stream",
     "text": [
      "Result for the Density_of_the_resident_cells: Multiple Comparison of Means - Tukey HSD, FWER=0.05\n",
      "===================================================\n",
      "group1 group2 meandiff p-adj   lower  upper  reject\n",
      "---------------------------------------------------\n",
      "    OA  Scope   0.1071  0.912 -0.5446 0.7589  False\n",
      "    OA Trauma   0.3571 0.4416 -0.3604 1.0747  False\n",
      " Scope Trauma     0.25 0.7161 -0.5442 1.0442  False\n",
      "---------------------------------------------------\n"
     ]
    }
   ],
   "source": [
    "# comparing the Density_of_the_resident_cells between each pathology, using 95% confidence interval  \n",
    "multiComp = MultiComparison(clear_data['Density_of_the_resident_cells'], clear_data['Pathology']) \n",
    "tukeyres = multiComp.tukeyhsd(alpha = 0.05) \n",
    " \n",
    "print('Result for the Density_of_the_resident_cells:', tukeyres) "
   ]
  },
  {
   "cell_type": "code",
   "execution_count": 153,
   "metadata": {},
   "outputs": [
    {
     "name": "stdout",
     "output_type": "stream",
     "text": [
      "              sum_sq    df     F  PR(>F)\n",
      "C(Pathology)    2.04   2.0  3.54    0.04\n",
      "Residual        7.21  25.0   NaN     NaN\n"
     ]
    }
   ],
   "source": [
    "Inflammatory_infiltrate_model = ols('Inflammatory_infiltrate ~ C(Pathology)', clear_data).fit()\n",
    "print(sm.stats.anova_lm(Inflammatory_infiltrate_model, typ=2).round(2))"
   ]
  },
  {
   "cell_type": "code",
   "execution_count": 152,
   "metadata": {},
   "outputs": [
    {
     "name": "stdout",
     "output_type": "stream",
     "text": [
      "Result for the Inflammatory_infiltrate: Multiple Comparison of Means - Tukey HSD, FWER=0.05 \n",
      "====================================================\n",
      "group1 group2 meandiff p-adj   lower   upper  reject\n",
      "----------------------------------------------------\n",
      "    OA  Scope   -0.625 0.0374 -1.2178 -0.0322   True\n",
      "    OA Trauma  -0.3333 0.4235  -0.986  0.3193  False\n",
      " Scope Trauma   0.2917 0.5802 -0.4307   1.014  False\n",
      "----------------------------------------------------\n"
     ]
    }
   ],
   "source": [
    "# comparing the Inflammatory_infiltrate between each pathology, using 95% confidence interval  \n",
    "multiComp = MultiComparison(clear_data['Inflammatory_infiltrate'], clear_data['Pathology']) \n",
    "tukeyres = multiComp.tukeyhsd(alpha = 0.05) \n",
    " \n",
    "print('Result for the Inflammatory_infiltrate:', tukeyres) "
   ]
  }
 ],
 "metadata": {
  "kernelspec": {
   "display_name": "Python 3",
   "language": "python",
   "name": "python3"
  },
  "language_info": {
   "codemirror_mode": {
    "name": "ipython",
    "version": 3
   },
   "file_extension": ".py",
   "mimetype": "text/x-python",
   "name": "python",
   "nbconvert_exporter": "python",
   "pygments_lexer": "ipython3",
   "version": "3.10.13"
  }
 },
 "nbformat": 4,
 "nbformat_minor": 2
}
